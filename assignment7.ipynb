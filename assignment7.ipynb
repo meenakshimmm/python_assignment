{
  "nbformat": 4,
  "nbformat_minor": 0,
  "metadata": {
    "colab": {
      "provenance": []
    },
    "kernelspec": {
      "name": "python3",
      "display_name": "Python 3"
    },
    "language_info": {
      "name": "python"
    }
  },
  "cells": [
    {
      "cell_type": "markdown",
      "source": [
        "1. Write a Python program to loop through all the elements in a list\n",
        "Ex:\n",
        "Input: [1,2,3,4,5,6]\n",
        "\n",
        "Output:\n",
        "\n",
        "1\n",
        "\n",
        "2\n",
        "\n",
        "3\n",
        "\n",
        "4\n",
        "\n",
        "5\n",
        "\n",
        "6"
      ],
      "metadata": {
        "id": "FLv6axX35anP"
      }
    },
    {
      "cell_type": "code",
      "execution_count": null,
      "metadata": {
        "colab": {
          "base_uri": "https://localhost:8080/"
        },
        "id": "xeWX21NY5VWd",
        "outputId": "c26685d6-a286-4ef1-e706-7cfc8b1e4b7c"
      },
      "outputs": [
        {
          "output_type": "stream",
          "name": "stdout",
          "text": [
            "1\n",
            "2\n",
            "3\n",
            "4\n",
            "5\n",
            "6\n"
          ]
        }
      ],
      "source": [
        "x=[1,2,3,4,5,6]\n",
        "for y in x:\n",
        "  print(y)"
      ]
    },
    {
      "cell_type": "markdown",
      "source": [
        "2. Write a Python program where you will ask the users to insert elements in a list"
      ],
      "metadata": {
        "id": "3Vui9PiN6LKl"
      }
    },
    {
      "cell_type": "code",
      "source": [
        "n=int(input(\"enter number of ele to be inserted:\"))\n",
        "y=[]\n",
        "for z in range(0,n):\n",
        "  x=int(input(\"enter ele:\" ))\n",
        "  y.append(x)\n",
        "print(y)\n",
        "\n",
        "\n",
        "\n",
        "\n"
      ],
      "metadata": {
        "id": "qWTzsXzl6QuE",
        "colab": {
          "base_uri": "https://localhost:8080/"
        },
        "outputId": "722aa2da-7b40-4352-d78c-a23c0890c7ce"
      },
      "execution_count": null,
      "outputs": [
        {
          "output_type": "stream",
          "name": "stdout",
          "text": [
            "enter number of ele to be inserted:6\n",
            "enter ele:8\n",
            "enter ele:8\n",
            "enter ele:5\n",
            "enter ele:9\n",
            "enter ele:1\n",
            "enter ele:5\n",
            "[8, 8, 5, 9, 1, 5]\n"
          ]
        }
      ]
    },
    {
      "cell_type": "markdown",
      "source": [
        "3. Write a Python program to remove all the odd index value from a list and only even\n",
        "index elements should remain\n",
        "Ex:\n",
        "Input: [1,2,3,4,5,6,7,”a”]\n",
        "Output: [1,3,5,7]"
      ],
      "metadata": {
        "id": "uEfxqtbc7EQg"
      }
    },
    {
      "cell_type": "code",
      "source": [
        "x=[1,2,3,4,5,6,7,\"a\"]\n",
        "z=[]\n",
        "i=0\n",
        "while i<=6:\n",
        "  if i%2==0:\n",
        "    a=x[i]\n",
        "    z.append(a)\n",
        "  i=i+1\n",
        "print(z)"
      ],
      "metadata": {
        "colab": {
          "base_uri": "https://localhost:8080/"
        },
        "id": "W52Gz4627F5F",
        "outputId": "807354ee-e3d8-4bcb-ace5-620899e340d2"
      },
      "execution_count": null,
      "outputs": [
        {
          "output_type": "stream",
          "name": "stdout",
          "text": [
            "[1, 3, 5, 7]\n"
          ]
        }
      ]
    },
    {
      "cell_type": "markdown",
      "source": [
        "4. Write a Python program to sum and multiply all the items in a list\n",
        "Ex:\n",
        "Input: [1,2,3,4]\n",
        "Output: sum: -10\n",
        "Product: -24"
      ],
      "metadata": {
        "id": "Rqm5NKhqpJc1"
      }
    },
    {
      "cell_type": "code",
      "source": [
        "n=int(input(\"enter no of ele\"))\n",
        "y=[]\n",
        "sum=0\n",
        "product=1\n",
        "for z in range(0,n):\n",
        "  ele=int(input(\"element:\"))\n",
        "  y.append(ele)\n",
        "  sum=sum+ele\n",
        "  product=product*ele\n",
        "print(y)\n",
        "print(\"sum=\",sum)\n",
        "print(\"product=\",product)"
      ],
      "metadata": {
        "colab": {
          "base_uri": "https://localhost:8080/"
        },
        "id": "G_GnH6mSpfJp",
        "outputId": "48e300e5-06d9-4154-ae77-1f6c4de7283b"
      },
      "execution_count": null,
      "outputs": [
        {
          "output_type": "stream",
          "name": "stdout",
          "text": [
            "enter no of ele4\n",
            "element:1\n",
            "element:2\n",
            "element:3\n",
            "element:4\n",
            "[1, 2, 3, 4]\n",
            "sum= 10\n",
            "product= 24\n"
          ]
        }
      ]
    },
    {
      "cell_type": "markdown",
      "source": [
        "5. Write a Python program to get the maximum and minimum numbers from a list\n",
        "Ex:\n",
        "\n",
        "Input: [8,4,11,7,90]\n",
        "\n",
        "Output: max: - 90\n",
        "\n",
        "Min: - 4"
      ],
      "metadata": {
        "id": "xBXHvgObrV1M"
      }
    },
    {
      "cell_type": "code",
      "source": [
        "\n",
        "x=[]\n",
        "for y in range(0,5):\n",
        "  ele=int(input(\"enter ele:\"))\n",
        "  x.append(ele)\n",
        "print(x)\n",
        "if x[0]>x[1] and x[0]>x[2] and x[0]>x[3] and x[0]>x[4] :\n",
        "    print(\"max=\",x[0])\n",
        "elif x[1]>x[0] and x[1]>x[2] and x[1]>x[3] and x[1]>x[4] :\n",
        "    print(\"max=\",x[1])\n",
        "elif x[2]>x[1] and x[2]>x[0] and x[2]>x[3] and x[2]>x[4] :\n",
        "    print(\"max=\",x[2])\n",
        "elif x[3]>x[1] and x[3]>x[2] and x[3]>x[0] and x[3]>x[4] :\n",
        "    print(\"max=\",x[3])\n",
        "else:\n",
        "    print(\"max\",x[4])\n",
        "if x[0]<x[1] and x[0]<x[2] and x[0]<x[3] and x[0]<x[4] :\n",
        "    print(\"min=\",x[0])\n",
        "elif x[1]<x[0] and x[1]<x[2] and x[1]<x[3] and x[1]<x[4] :\n",
        "    print(\"min=\",x[1])\n",
        "elif x[2]<x[1] and x[2]<x[0] and x[2]<x[3] and x[2]<x[4] :\n",
        "    print(\"min=\",x[2])\n",
        "elif x[3]<x[1] and x[3]<x[2] and x[3]<x[0] and x[3]<x[4] :\n",
        "    print(\"min=\",x[3])\n",
        "else:\n",
        "    print(\"min\",x[4])\n",
        "\n"
      ],
      "metadata": {
        "colab": {
          "base_uri": "https://localhost:8080/"
        },
        "id": "ZuqEnYVJ0R-v",
        "outputId": "41949bbf-4d5f-47da-aa78-c31de2464fef"
      },
      "execution_count": 5,
      "outputs": [
        {
          "output_type": "stream",
          "name": "stdout",
          "text": [
            "enter ele:8\n",
            "enter ele:4\n",
            "enter ele:11\n",
            "enter ele:7\n",
            "enter ele:90\n",
            "[8, 4, 11, 7, 90]\n",
            "max 90\n",
            "min= 4\n"
          ]
        }
      ]
    },
    {
      "cell_type": "markdown",
      "source": [
        "\n",
        "6. Write a Python program to print a specified list after removing the 0th, 4th and 5th\n",
        "elements.\n",
        "\n",
        "Ex:\n",
        "Input: ['Red', 'Green', 'White', 'Black', 'Pink', 'Yellow']\n",
        "Output: ['Green', 'White', 'Black']"
      ],
      "metadata": {
        "id": "D6HXbaYV41dN"
      }
    },
    {
      "cell_type": "code",
      "source": [
        "n=int(input(\"enter num of colors:\"))\n",
        "x=[]\n",
        "for y in range(0,n):\n",
        "  ele=input(\"enter color:\")\n",
        "  x.append(ele)\n",
        "if x[0]:\n",
        "  x.pop(0)\n",
        "if x[4]:\n",
        "  x.pop(4)\n",
        "if x[3]:\n",
        "  x.pop(3)\n",
        "print(x)\n"
      ],
      "metadata": {
        "colab": {
          "base_uri": "https://localhost:8080/"
        },
        "id": "0NO0TcLW47CJ",
        "outputId": "caaf6541-ee04-43e6-f155-28b55b826335"
      },
      "execution_count": 13,
      "outputs": [
        {
          "output_type": "stream",
          "name": "stdout",
          "text": [
            "enter num of colors:6\n",
            "enter color:red\n",
            "enter color:green\n",
            "enter color:white\n",
            "enter color:black\n",
            "enter color:pink\n",
            "enter color:yellow\n",
            "['green', 'white', 'black']\n"
          ]
        }
      ]
    },
    {
      "cell_type": "markdown",
      "source": [
        "7. Write a Python program to convert a list of characters into a string"
      ],
      "metadata": {
        "id": "lmg3dmz993TG"
      }
    },
    {
      "cell_type": "code",
      "source": [
        "x=['m','e','e','n','a']\n",
        "z=\"\"\n",
        "for y in x:\n",
        "  z=z+str(y)\n",
        "print(z)"
      ],
      "metadata": {
        "colab": {
          "base_uri": "https://localhost:8080/"
        },
        "id": "DEp2grDt95Zl",
        "outputId": "f6f1fd3a-c068-4d73-fcbf-63eed6ce5ab0"
      },
      "execution_count": 14,
      "outputs": [
        {
          "output_type": "stream",
          "name": "stdout",
          "text": [
            "meena\n"
          ]
        }
      ]
    },
    {
      "cell_type": "markdown",
      "source": [
        "8. Write a Python program to compute average of given lists.\n"
      ],
      "metadata": {
        "id": "sS44u3aM-ZQ_"
      }
    },
    {
      "cell_type": "code",
      "source": [
        "x=[1,2,3,4]\n",
        "y=[5,6,7,8]\n",
        "z=[9,10,11,12]\n",
        "p=x+y+z\n",
        "sum=0\n",
        "avg=1\n",
        "for a in p:\n",
        "  sum=sum+int(a)\n",
        "avg=sum/len(p)\n",
        "print(avg)\n"
      ],
      "metadata": {
        "colab": {
          "base_uri": "https://localhost:8080/"
        },
        "id": "Yg5Ftqbm_xfc",
        "outputId": "7cc071ca-138c-4e07-b2fa-b253295b26aa"
      },
      "execution_count": 15,
      "outputs": [
        {
          "output_type": "stream",
          "name": "stdout",
          "text": [
            "6.5\n"
          ]
        }
      ]
    },
    {
      "cell_type": "markdown",
      "source": [
        "9. Write a Python program to count integer in a given mixed list.\n",
        "\n",
        "Ex:\n",
        "Input: [10, “a”,2,3,5.5,1.34,” Abc”,” rt”]\n",
        "\n",
        "Output: Number of integers in the list:\n",
        "5"
      ],
      "metadata": {
        "id": "cqgNHxQ9AkAW"
      }
    },
    {
      "cell_type": "code",
      "source": [
        "input= [10,\"a\",2,3,5.5,1.34,\"abc\",\"rt\"]\n",
        "count=0\n",
        "for y in input:\n",
        "  if isinstance(y,int):\n",
        "    count=count+1\n",
        "print(\"num of integers:\",count)\n"
      ],
      "metadata": {
        "colab": {
          "base_uri": "https://localhost:8080/"
        },
        "id": "aJSy23DSArtj",
        "outputId": "1b72aac5-688e-4689-fca5-3018fce5f99c"
      },
      "execution_count": 23,
      "outputs": [
        {
          "output_type": "stream",
          "name": "stdout",
          "text": [
            "num of integers: 3\n"
          ]
        }
      ]
    },
    {
      "cell_type": "markdown",
      "source": [
        "10. Write a Python program to reverse the list"
      ],
      "metadata": {
        "id": "TnSPXzqG-hjY"
      }
    },
    {
      "cell_type": "code",
      "source": [
        "x=[\"m\",\"e\",\"e\",\"n\",\"a\"]\n",
        "y=[]\n",
        "i=-1\n",
        "for a in x:\n",
        "  y.insert(i,a)\n",
        "  i=i-1\n",
        "print(y)\n",
        "\n"
      ],
      "metadata": {
        "colab": {
          "base_uri": "https://localhost:8080/"
        },
        "id": "CCu3w_GV-i0U",
        "outputId": "23b310b3-77e4-48a6-8f31-f5dac365b116"
      },
      "execution_count": 24,
      "outputs": [
        {
          "output_type": "stream",
          "name": "stdout",
          "text": [
            "['a', 'n', 'e', 'e', 'm']\n"
          ]
        }
      ]
    },
    {
      "cell_type": "markdown",
      "source": [
        "11. Write a Python program convert a given string to a tuple\n",
        "\n",
        "Ex:\n",
        "Input: “python1.2”\n",
        "\n",
        "Output: (“p”,” y”,”t”,”h”,” o”,” n”,”1”,”.”,”2”)"
      ],
      "metadata": {
        "id": "o7AVqThNGBgj"
      }
    },
    {
      "cell_type": "code",
      "source": [
        "x=\"python1.2\"\n",
        "z=\"\"\n",
        "for y in x:\n",
        "  z=z+y\n",
        "  a=tuple(z)\n",
        "print(a)"
      ],
      "metadata": {
        "colab": {
          "base_uri": "https://localhost:8080/"
        },
        "id": "KFS4kxzKGGGg",
        "outputId": "3816eca9-8ee5-45a7-91a0-657f1eaef1ad"
      },
      "execution_count": 29,
      "outputs": [
        {
          "output_type": "stream",
          "name": "stdout",
          "text": [
            "('p', 'y', 't', 'h', 'o', 'n', '1', '.', '2')\n"
          ]
        }
      ]
    }
  ]
}