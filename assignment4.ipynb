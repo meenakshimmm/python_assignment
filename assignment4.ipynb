{
  "nbformat": 4,
  "nbformat_minor": 0,
  "metadata": {
    "colab": {
      "provenance": []
    },
    "kernelspec": {
      "name": "python3",
      "display_name": "Python 3"
    },
    "language_info": {
      "name": "python"
    }
  },
  "cells": [
    {
      "cell_type": "markdown",
      "source": [
        "\n",
        "1.Write a program in Python to display the Factorial of a number\n"
      ],
      "metadata": {
        "id": "ua_ZQ33rU0ls"
      }
    },
    {
      "cell_type": "code",
      "source": [
        "\n",
        "fact=1\n",
        "for y in range(1,9):\n",
        "  fact=fact*y\n",
        "print(fact)\n"
      ],
      "metadata": {
        "colab": {
          "base_uri": "https://localhost:8080/"
        },
        "id": "ZAY3SxE9U4fn",
        "outputId": "0a49e706-1592-4a79-ea3c-d47711e8429b"
      },
      "execution_count": null,
      "outputs": [
        {
          "output_type": "stream",
          "name": "stdout",
          "text": [
            "40320\n"
          ]
        }
      ]
    },
    {
      "cell_type": "markdown",
      "source": [
        "2.Write a program in Python to reverse a word with the help of while loop and for loop\n"
      ],
      "metadata": {
        "id": "IBrlRcq1c-Mr"
      }
    },
    {
      "cell_type": "code",
      "source": [
        "x=input(\"enter a string:\")\n",
        "y=\"\"\n",
        "i=0\n",
        "for z in x:\n",
        "  i=i-1\n",
        "  y=y+x[i]\n",
        "print(y)"
      ],
      "metadata": {
        "colab": {
          "base_uri": "https://localhost:8080/"
        },
        "id": "MVsRJD8mdGTZ",
        "outputId": "295a0007-bfe3-48d9-e6cd-75fbffd9f840"
      },
      "execution_count": null,
      "outputs": [
        {
          "output_type": "stream",
          "name": "stdout",
          "text": [
            "enter a string:meena\n",
            "aneem\n"
          ]
        }
      ]
    },
    {
      "cell_type": "code",
      "source": [
        "x=input(\"enter a string:\")\n",
        "y=\"\"\n",
        "i=len(x)-1\n",
        "while i>=0:\n",
        "  y=y+x[i]\n",
        "  i=i-1\n",
        "print(y)"
      ],
      "metadata": {
        "colab": {
          "base_uri": "https://localhost:8080/"
        },
        "id": "KDdJmPZsd-pL",
        "outputId": "0caf14a7-634f-4901-ade9-aa1d0d9f71e3"
      },
      "execution_count": null,
      "outputs": [
        {
          "output_type": "stream",
          "name": "stdout",
          "text": [
            "enter a string:meena\n",
            "aneem\n"
          ]
        }
      ]
    },
    {
      "cell_type": "markdown",
      "source": [
        "3.Write a program to print n natural number in descending order using a while loop.\n"
      ],
      "metadata": {
        "id": "0Cpn69xUgPmB"
      }
    },
    {
      "cell_type": "code",
      "source": [
        "x=int(input(\"enter a num:\"))\n",
        "i=x\n",
        "while i>0:\n",
        "  print(i)\n",
        "  i=i-1\n",
        "\n"
      ],
      "metadata": {
        "colab": {
          "base_uri": "https://localhost:8080/"
        },
        "id": "gkDBvUwjgXid",
        "outputId": "6ecdb775-82f4-4421-fb47-a99901e498bc"
      },
      "execution_count": null,
      "outputs": [
        {
          "output_type": "stream",
          "name": "stdout",
          "text": [
            "enter a num:8\n",
            "8\n",
            "7\n",
            "6\n",
            "5\n",
            "4\n",
            "3\n",
            "2\n",
            "1\n"
          ]
        }
      ]
    },
    {
      "cell_type": "markdown",
      "source": [
        "4.Write a program to print multiplication table of any given number\n"
      ],
      "metadata": {
        "id": "1lCk3khWhtiB"
      }
    },
    {
      "cell_type": "code",
      "source": [
        "x=int(input(\"enter a num:\"))\n",
        "for y in range(1,11):\n",
        "  print(\"{}x{}={}\".format(x,y,x*y))\n"
      ],
      "metadata": {
        "colab": {
          "base_uri": "https://localhost:8080/"
        },
        "id": "iOLLdROdiAxP",
        "outputId": "9b0251a5-e074-4949-a0bd-84151fbcf72d"
      },
      "execution_count": null,
      "outputs": [
        {
          "output_type": "stream",
          "name": "stdout",
          "text": [
            "enter a num:5\n",
            "5x1=5\n",
            "5x2=10\n",
            "5x3=15\n",
            "5x4=20\n",
            "5x5=25\n",
            "5x6=30\n",
            "5x7=35\n",
            "5x8=40\n",
            "5x9=45\n",
            "5x10=50\n"
          ]
        }
      ]
    },
    {
      "cell_type": "markdown",
      "source": [
        "5.Count the total number of digits in a number.Example For example, the number is 758692, so the output should be 6\n"
      ],
      "metadata": {
        "id": "i_0turtiinD0"
      }
    },
    {
      "cell_type": "code",
      "source": [
        "x=int(input(\"enter anum:\"))\n",
        "count=0\n",
        "for y in str(x):\n",
        "  count=count+1\n",
        "print(count)"
      ],
      "metadata": {
        "colab": {
          "base_uri": "https://localhost:8080/"
        },
        "id": "WZeqFA0lixFC",
        "outputId": "a567e4e1-18d9-4d27-fec6-b8632b843453"
      },
      "execution_count": null,
      "outputs": [
        {
          "output_type": "stream",
          "name": "stdout",
          "text": [
            "enter anum:5678\n",
            "4\n"
          ]
        }
      ]
    },
    {
      "cell_type": "markdown",
      "source": [
        "7.Display Fibonacci series up to 10 terms\n",
        "(The Fibonacci Sequence is a series of numbers. The next number is found by adding up the two numbers before it. The first two numbers are 0 and 1. For example, 0, 1, 1, 2, 3, 5, 8, 13, 21. The next number in this series above is 13+21 = 34.)\n"
      ],
      "metadata": {
        "id": "iOGbdDgVDhx4"
      }
    },
    {
      "cell_type": "code",
      "source": [
        "n1=0\n",
        "n2=1\n",
        "print(n1)\n",
        "print(n2)\n",
        "for y in range(1,11):\n",
        "  n3=n1+n2\n",
        "  n1=n2\n",
        "  n2=n3\n",
        "  print(n3)\n",
        "\n",
        "\n",
        "\n",
        "\n"
      ],
      "metadata": {
        "colab": {
          "base_uri": "https://localhost:8080/"
        },
        "id": "u9b9nzmnDp-N",
        "outputId": "a9b54747-c8cd-4b13-d7f9-be0e0669a645"
      },
      "execution_count": null,
      "outputs": [
        {
          "output_type": "stream",
          "name": "stdout",
          "text": [
            "0\n",
            "1\n",
            "1\n",
            "2\n",
            "3\n",
            "5\n",
            "8\n",
            "13\n",
            "21\n",
            "34\n",
            "55\n",
            "89\n"
          ]
        }
      ]
    },
    {
      "cell_type": "markdown",
      "source": [
        "8.Write a Python program that accepts a word from the user and reverses it.\n"
      ],
      "metadata": {
        "id": "O3sdIsEhHLpn"
      }
    },
    {
      "cell_type": "code",
      "source": [
        "x=input(\"enter a word:\")\n",
        "i=len(x)-1\n",
        "z=\"\"\n",
        "for y in x:\n",
        "  z=z+x[i]\n",
        "  i=i-1\n",
        "print(z)\n"
      ],
      "metadata": {
        "colab": {
          "base_uri": "https://localhost:8080/"
        },
        "id": "Y1ni9hrfHTRr",
        "outputId": "4d092a89-6821-4f2b-813d-d66d067f0d2e"
      },
      "execution_count": null,
      "outputs": [
        {
          "output_type": "stream",
          "name": "stdout",
          "text": [
            "enter a word:tarunkumar\n",
            "ramuknurat\n"
          ]
        }
      ]
    }
  ]
}