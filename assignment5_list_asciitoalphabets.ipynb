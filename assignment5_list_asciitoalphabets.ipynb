{
  "nbformat": 4,
  "nbformat_minor": 0,
  "metadata": {
    "colab": {
      "provenance": []
    },
    "kernelspec": {
      "name": "python3",
      "display_name": "Python 3"
    },
    "language_info": {
      "name": "python"
    }
  },
  "cells": [
    {
      "cell_type": "markdown",
      "source": [
        " 1.Create a python program to print lower case alphabets (a-z) with while loop\n",
        "\n"
      ],
      "metadata": {
        "id": "7UId0dvLlfc-"
      }
    },
    {
      "cell_type": "code",
      "source": [
        "x=[]\n",
        "i=97\n",
        "while i<=122:\n",
        "  x.append(chr(i))\n",
        "  i=i+1\n",
        "print(x)\n"
      ],
      "metadata": {
        "colab": {
          "base_uri": "https://localhost:8080/"
        },
        "id": "GXVTSkZ3lbk1",
        "outputId": "374f33a8-4bc5-4fa2-d91d-6fe190859181"
      },
      "execution_count": 8,
      "outputs": [
        {
          "output_type": "stream",
          "name": "stdout",
          "text": [
            "['a', 'b', 'c', 'd', 'e', 'f', 'g', 'h', 'i', 'j', 'k', 'l', 'm', 'n', 'o', 'p', 'q', 'r', 's', 't', 'u', 'v', 'w', 'x', 'y', 'z']\n"
          ]
        }
      ]
    },
    {
      "cell_type": "markdown",
      "source": [
        "2.Create a python program to upper case alphabets with looping concepts (for loop)\n"
      ],
      "metadata": {
        "id": "zvBXSVvgn5Vn"
      }
    },
    {
      "cell_type": "code",
      "source": [
        "x=[]\n",
        "for y in range(65,91):\n",
        "  x.append(chr(y))\n",
        "print(x)"
      ],
      "metadata": {
        "colab": {
          "base_uri": "https://localhost:8080/"
        },
        "id": "swL9NXqhoBLO",
        "outputId": "6f241ae1-f607-46cb-f180-de7fca2a62f9"
      },
      "execution_count": 10,
      "outputs": [
        {
          "output_type": "stream",
          "name": "stdout",
          "text": [
            "['A', 'B', 'C', 'D', 'E', 'F', 'G', 'H', 'I', 'J', 'K', 'L', 'M', 'N', 'O', 'P', 'Q', 'R', 'S', 'T', 'U', 'V', 'W', 'X', 'Y', 'Z']\n"
          ]
        }
      ]
    }
  ]
}