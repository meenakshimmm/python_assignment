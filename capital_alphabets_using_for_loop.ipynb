{
  "nbformat": 4,
  "nbformat_minor": 0,
  "metadata": {
    "colab": {
      "provenance": []
    },
    "kernelspec": {
      "name": "python3",
      "display_name": "Python 3"
    },
    "language_info": {
      "name": "python"
    }
  },
  "cells": [
    {
      "cell_type": "code",
      "execution_count": null,
      "metadata": {
        "colab": {
          "base_uri": "https://localhost:8080/"
        },
        "id": "52pexrXQuc6D",
        "outputId": "8a473fdf-73a9-4bcc-f4f9-c4b1500437d8"
      },
      "outputs": [
        {
          "output_type": "stream",
          "name": "stdout",
          "text": [
            "  * *  \n",
            "*     *\n",
            "* * * *\n",
            "*     *\n",
            "*     *\n"
          ]
        }
      ],
      "source": [
        "#A\n",
        "for y in range(1,6):\n",
        "  if y==1:\n",
        "    print(\"  * *  \")\n",
        "  elif y==3:\n",
        "    print(\"* * * *\")\n",
        "  else:\n",
        "    print(\"*     *\")"
      ]
    },
    {
      "cell_type": "code",
      "source": [
        "#B\n",
        "for y in range(1,6):\n",
        "  if y==1 or y==3 or y==5:\n",
        "    print(\"* * *  \")\n",
        "  else:\n",
        "    print(\"*     *\")"
      ],
      "metadata": {
        "colab": {
          "base_uri": "https://localhost:8080/"
        },
        "id": "Vs-MIXOZwFpb",
        "outputId": "648b4d4c-b928-4215-f62e-b2be0bbdf0a4"
      },
      "execution_count": null,
      "outputs": [
        {
          "output_type": "stream",
          "name": "stdout",
          "text": [
            "* * *  \n",
            "*     *\n",
            "* * *  \n",
            "*     *\n",
            "* * *  \n"
          ]
        }
      ]
    },
    {
      "cell_type": "code",
      "source": [
        "#C\n",
        "for y in range(1,6):\n",
        "  if y==1 or y==5:\n",
        "    print(\"* * * *\")\n",
        "  else:\n",
        "    print(\"*      \")"
      ],
      "metadata": {
        "colab": {
          "base_uri": "https://localhost:8080/"
        },
        "id": "p91Tr89CwiaE",
        "outputId": "5c066fe5-eccf-4bfd-f942-9dba3abb3b08"
      },
      "execution_count": null,
      "outputs": [
        {
          "output_type": "stream",
          "name": "stdout",
          "text": [
            "* * * *\n",
            "*      \n",
            "*      \n",
            "*      \n",
            "* * * *\n"
          ]
        }
      ]
    },
    {
      "cell_type": "code",
      "source": [
        "#D\n",
        "for y in range(1,6):\n",
        "  if y==1 or y==5:\n",
        "    print(\"* * *  \")\n",
        "  else:\n",
        "    print(\"*     *\")"
      ],
      "metadata": {
        "colab": {
          "base_uri": "https://localhost:8080/"
        },
        "id": "iAEq6aJOw7yO",
        "outputId": "9a6137a1-9001-474c-dad7-5bd25b1db477"
      },
      "execution_count": null,
      "outputs": [
        {
          "output_type": "stream",
          "name": "stdout",
          "text": [
            "* * *  \n",
            "*     *\n",
            "*     *\n",
            "*     *\n",
            "* * *  \n"
          ]
        }
      ]
    },
    {
      "cell_type": "code",
      "source": [
        "#E\n",
        "for y in range(1,6):\n",
        "  if y==1 or y==3 or y==5:\n",
        "    print(\"* * * *\")\n",
        "  else:\n",
        "    print(\"*      \")"
      ],
      "metadata": {
        "colab": {
          "base_uri": "https://localhost:8080/"
        },
        "id": "_MxwiRbdxDqa",
        "outputId": "60d0ef08-e633-4177-bf8b-fa020367bf75"
      },
      "execution_count": null,
      "outputs": [
        {
          "output_type": "stream",
          "name": "stdout",
          "text": [
            "* * * *\n",
            "*      \n",
            "* * * *\n",
            "*      \n",
            "* * * *\n"
          ]
        }
      ]
    },
    {
      "cell_type": "code",
      "source": [
        "#F\n",
        "for y in range(1,6):\n",
        "  if y==1 or y==3:\n",
        "    print(\"* * * *\")\n",
        "  else:\n",
        "    print(\"*      \")"
      ],
      "metadata": {
        "colab": {
          "base_uri": "https://localhost:8080/"
        },
        "id": "igMVBvS6xg4d",
        "outputId": "2681ea20-6d10-4b6a-9703-d85c0272c58f"
      },
      "execution_count": null,
      "outputs": [
        {
          "output_type": "stream",
          "name": "stdout",
          "text": [
            "* * * *\n",
            "*      \n",
            "* * * *\n",
            "*      \n",
            "*      \n"
          ]
        }
      ]
    },
    {
      "cell_type": "code",
      "source": [
        "#G\n",
        "for y in range(1,6):\n",
        "  if y==1:\n",
        "    print(\"  * * *\")\n",
        "  elif y==2:\n",
        "    print(\"*      \")\n",
        "  elif y==3:\n",
        "    print(\"*   * *\")\n",
        "  elif y==4:\n",
        "    print(\"*     *\")\n",
        "  else:\n",
        "    print(\"  * *  \")"
      ],
      "metadata": {
        "colab": {
          "base_uri": "https://localhost:8080/"
        },
        "id": "LZp5lMByxs_L",
        "outputId": "7a4bf634-5fb6-4fcf-bbd0-25305371569e"
      },
      "execution_count": null,
      "outputs": [
        {
          "output_type": "stream",
          "name": "stdout",
          "text": [
            "  * * *\n",
            "*      \n",
            "*   * *\n",
            "*     *\n",
            "  * *  \n"
          ]
        }
      ]
    },
    {
      "cell_type": "code",
      "source": [
        "#H\n",
        "for y in range(1,6):\n",
        "  if y==3:\n",
        "    print(\"* * * *\")\n",
        "  else:\n",
        "    print(\"*     *\")"
      ],
      "metadata": {
        "colab": {
          "base_uri": "https://localhost:8080/"
        },
        "id": "TFIJhq5Wyk0g",
        "outputId": "23228480-a1bd-4a0a-8642-bd21a1ca3688"
      },
      "execution_count": null,
      "outputs": [
        {
          "output_type": "stream",
          "name": "stdout",
          "text": [
            "*     *\n",
            "*     *\n",
            "* * * *\n",
            "*     *\n",
            "*     *\n"
          ]
        }
      ]
    },
    {
      "cell_type": "code",
      "source": [
        "#I\n",
        "for y in range(1,6):\n",
        "  if y==1 or y==5:\n",
        "    print(\"* * * * *\")\n",
        "  else:\n",
        "    print(\"    *    \")"
      ],
      "metadata": {
        "colab": {
          "base_uri": "https://localhost:8080/"
        },
        "id": "A24C2A6RzAEW",
        "outputId": "02e42ed8-e126-405b-9515-4448d1523bf3"
      },
      "execution_count": null,
      "outputs": [
        {
          "output_type": "stream",
          "name": "stdout",
          "text": [
            "* * * * *\n",
            "    *    \n",
            "    *    \n",
            "    *    \n",
            "* * * * *\n"
          ]
        }
      ]
    },
    {
      "cell_type": "code",
      "source": [
        "#J\n",
        "for y in range(1,6):\n",
        "  if y==1:\n",
        "    print(\"* * * * \")\n",
        "  elif y==4:\n",
        "    print(\"*   *    \")\n",
        "  elif y==5:\n",
        "    print(\"  *      \")\n",
        "  else:\n",
        "    print(\"    *    \")"
      ],
      "metadata": {
        "colab": {
          "base_uri": "https://localhost:8080/"
        },
        "id": "vyrhBUUQzSfa",
        "outputId": "9436eabc-6e74-492c-be29-0e5d1727a7a1"
      },
      "execution_count": null,
      "outputs": [
        {
          "output_type": "stream",
          "name": "stdout",
          "text": [
            "* * * * \n",
            "    *    \n",
            "    *    \n",
            "*   *    \n",
            "  *      \n"
          ]
        }
      ]
    },
    {
      "cell_type": "code",
      "source": [
        "#K\n",
        "for y in range(1,6):\n",
        "  if y==1 or y==5:\n",
        "    print(\"*     *\")\n",
        "  elif y==3:\n",
        "    print(\"* *    \")\n",
        "  else:\n",
        "    print(\"*   *  \")"
      ],
      "metadata": {
        "colab": {
          "base_uri": "https://localhost:8080/"
        },
        "id": "WIlSTP12z-ut",
        "outputId": "d6680511-095f-4e19-d680-b93da67f9779"
      },
      "execution_count": null,
      "outputs": [
        {
          "output_type": "stream",
          "name": "stdout",
          "text": [
            "*     *\n",
            "*   *  \n",
            "* *    \n",
            "*   *  \n",
            "*     *\n"
          ]
        }
      ]
    },
    {
      "cell_type": "code",
      "source": [
        "#L\n",
        "for y in range(1,6):\n",
        "  if y==5:\n",
        "    print(\"* * * *\")\n",
        "  else:\n",
        "    print(\"*      \")"
      ],
      "metadata": {
        "colab": {
          "base_uri": "https://localhost:8080/"
        },
        "id": "bb1GOFXb04tH",
        "outputId": "01a037af-a9c2-4d60-ed7a-6216bf58c27e"
      },
      "execution_count": null,
      "outputs": [
        {
          "output_type": "stream",
          "name": "stdout",
          "text": [
            "*      \n",
            "*      \n",
            "*      \n",
            "*      \n",
            "* * * *\n"
          ]
        }
      ]
    },
    {
      "cell_type": "code",
      "source": [
        "#M\n",
        "for y in range(1,6):\n",
        "  if y==2:\n",
        "    print(\"* *   * *\")\n",
        "  elif y==3:\n",
        "    print(\"*   *   *\")\n",
        "  else:\n",
        "    print(\"*       *\")"
      ],
      "metadata": {
        "colab": {
          "base_uri": "https://localhost:8080/"
        },
        "id": "fnd4NHhX1lur",
        "outputId": "b4990d82-26c7-45a9-b093-f854161568fd"
      },
      "execution_count": null,
      "outputs": [
        {
          "output_type": "stream",
          "name": "stdout",
          "text": [
            "*       *\n",
            "* *   * *\n",
            "*   *   *\n",
            "*       *\n",
            "*       *\n"
          ]
        }
      ]
    },
    {
      "cell_type": "code",
      "source": [
        "#M\n",
        "for y in range(1,6):\n",
        "  if y==2:\n",
        "    print(\"* *     *\")\n",
        "  elif y==3:\n",
        "    print(\"*   *   *\")\n",
        "  elif y==4:\n",
        "    print(\"*     * *\")\n",
        "  else:\n",
        "    print(\"*       *\")"
      ],
      "metadata": {
        "colab": {
          "base_uri": "https://localhost:8080/"
        },
        "id": "Be9o1oGu2W62",
        "outputId": "e6a35c40-5150-439a-ba27-736e7ff17099"
      },
      "execution_count": null,
      "outputs": [
        {
          "output_type": "stream",
          "name": "stdout",
          "text": [
            "*       *\n",
            "* *     *\n",
            "*   *   *\n",
            "*     * *\n",
            "*       *\n"
          ]
        }
      ]
    },
    {
      "cell_type": "code",
      "source": [
        "#O\n",
        "for y in range(1,6):\n",
        "  if y==1 or y==5:\n",
        "    print(\"  * *  \")\n",
        "  else:\n",
        "    print(\"*     *\")"
      ],
      "metadata": {
        "colab": {
          "base_uri": "https://localhost:8080/"
        },
        "id": "L0r--cX13B3c",
        "outputId": "61302677-8acc-4a9b-a5b6-fe6e4b93c4cb"
      },
      "execution_count": null,
      "outputs": [
        {
          "output_type": "stream",
          "name": "stdout",
          "text": [
            "  * *  \n",
            "*     *\n",
            "*     *\n",
            "*     *\n",
            "  * *  \n"
          ]
        }
      ]
    },
    {
      "cell_type": "code",
      "source": [
        "#P\n",
        "for y in range(1,6):\n",
        "  if y==1 or y==3:\n",
        "    print(\"* * *  \")\n",
        "  elif y==2:\n",
        "    print(\"*     *\")\n",
        "  else:\n",
        "    print(\"*      \")"
      ],
      "metadata": {
        "colab": {
          "base_uri": "https://localhost:8080/"
        },
        "id": "WiDlL4EC3fMu",
        "outputId": "60461120-71da-4cce-89c6-eb1b1f01ef09"
      },
      "execution_count": null,
      "outputs": [
        {
          "output_type": "stream",
          "name": "stdout",
          "text": [
            "* * *  \n",
            "*     *\n",
            "* * *  \n",
            "*      \n",
            "*      \n"
          ]
        }
      ]
    },
    {
      "cell_type": "code",
      "source": [
        "#Q\n",
        "for y in range(1,6):\n",
        "  if y==1:\n",
        "    print(\"  * *     \")\n",
        "  elif y==4:\n",
        "    print(\"  * *    *\")\n",
        "  elif y==5:\n",
        "    print(\"      *   \")\n",
        "  else:\n",
        "    print(\"*     *\")"
      ],
      "metadata": {
        "colab": {
          "base_uri": "https://localhost:8080/"
        },
        "id": "Pxh75DxL35cW",
        "outputId": "eb75981a-bfa9-4a6b-f5ca-873e58e0249e"
      },
      "execution_count": null,
      "outputs": [
        {
          "output_type": "stream",
          "name": "stdout",
          "text": [
            "  * *     \n",
            "*     *\n",
            "*     *\n",
            "  * *    *\n",
            "      *   \n"
          ]
        }
      ]
    },
    {
      "cell_type": "code",
      "source": [
        "#R\n",
        "for y in range(1,6):\n",
        "  if y==1 or y==3:\n",
        "    print(\"* * *  \")\n",
        "  else:\n",
        "    print(\"*     *\")"
      ],
      "metadata": {
        "colab": {
          "base_uri": "https://localhost:8080/"
        },
        "id": "uKb1WBli5lat",
        "outputId": "b4c413aa-876f-4bcb-a0b3-046409d4fa3e"
      },
      "execution_count": null,
      "outputs": [
        {
          "output_type": "stream",
          "name": "stdout",
          "text": [
            "* * *  \n",
            "*     *\n",
            "* * *  \n",
            "*     *\n",
            "*     *\n"
          ]
        }
      ]
    },
    {
      "cell_type": "code",
      "source": [
        "#S\n",
        "for y in range(1,6):\n",
        "  if y==2:\n",
        "    print(\"*      \")\n",
        "  elif y==3:\n",
        "    print(\"  * *  \")\n",
        "  elif y==4:\n",
        "    print(\"      *\")\n",
        "  else:\n",
        "    print(\"* * * *\")"
      ],
      "metadata": {
        "colab": {
          "base_uri": "https://localhost:8080/"
        },
        "id": "DbMP5XIO5x4G",
        "outputId": "f0dd632b-3b61-4cfc-dc73-7a8fa04ab7c6"
      },
      "execution_count": null,
      "outputs": [
        {
          "output_type": "stream",
          "name": "stdout",
          "text": [
            "* * * *\n",
            "*      \n",
            "  * *  \n",
            "      *\n",
            "* * * *\n"
          ]
        }
      ]
    },
    {
      "cell_type": "code",
      "source": [
        "#T\n",
        "for y in range(1,6):\n",
        "  if y==1:\n",
        "    print(\"* * * * *\")\n",
        "  else:\n",
        "    print(\"    *    \")"
      ],
      "metadata": {
        "colab": {
          "base_uri": "https://localhost:8080/"
        },
        "id": "qxwL0D1lVWaP",
        "outputId": "ecd2ed78-5c5a-4434-bbca-0581d5df63b5"
      },
      "execution_count": 1,
      "outputs": [
        {
          "output_type": "stream",
          "name": "stdout",
          "text": [
            "* * * * *\n",
            "    *    \n",
            "    *    \n",
            "    *    \n",
            "    *    \n"
          ]
        }
      ]
    },
    {
      "cell_type": "code",
      "source": [
        "#U\n",
        "for y in range(1,6):\n",
        "  if y==5:\n",
        "    print(\"  * * *  \")\n",
        "  else:\n",
        "    print(\"*       *\")"
      ],
      "metadata": {
        "colab": {
          "base_uri": "https://localhost:8080/"
        },
        "id": "Dz0sOyTuV5bc",
        "outputId": "52642e93-0326-4862-9d66-a894e826154d"
      },
      "execution_count": 6,
      "outputs": [
        {
          "output_type": "stream",
          "name": "stdout",
          "text": [
            "*       *\n",
            "*       *\n",
            "*       *\n",
            "*       *\n",
            "  * * *  \n"
          ]
        }
      ]
    },
    {
      "cell_type": "code",
      "source": [
        "#V\n",
        "for y in range(1,4):\n",
        "  if y==3:\n",
        "    print(\"   *   \")\n",
        "  elif y==2:\n",
        "    print(\" *   *  \")\n",
        "  else:\n",
        "    print(\"*      *\")"
      ],
      "metadata": {
        "colab": {
          "base_uri": "https://localhost:8080/"
        },
        "id": "cCrf9QnYWXI7",
        "outputId": "cc13fc9a-8bd6-478c-9077-838b225f77af"
      },
      "execution_count": 11,
      "outputs": [
        {
          "output_type": "stream",
          "name": "stdout",
          "text": [
            "*      *\n",
            " *   *  \n",
            "   *   \n"
          ]
        }
      ]
    },
    {
      "cell_type": "code",
      "source": [
        "#W\n",
        "for y in range(1,6):\n",
        "  if y==4:\n",
        "    print(\"* *   * *\")\n",
        "  elif y==3:\n",
        "    print(\"*   *   *\")\n",
        "  else:\n",
        "    print(\"*       *\")"
      ],
      "metadata": {
        "colab": {
          "base_uri": "https://localhost:8080/"
        },
        "id": "Vn9yrF59XIcZ",
        "outputId": "5360af5b-f90c-42a9-f4e1-fe753ad2f71f"
      },
      "execution_count": 13,
      "outputs": [
        {
          "output_type": "stream",
          "name": "stdout",
          "text": [
            "*       *\n",
            "*       *\n",
            "*   *   *\n",
            "* *   * *\n",
            "*       *\n"
          ]
        }
      ]
    },
    {
      "cell_type": "code",
      "source": [
        "#X\n",
        "for y in range(1,6):\n",
        "  if y==1 or y==5:\n",
        "    print(\"*       *\")\n",
        "  elif y==3:\n",
        "    print(\"    *   \")\n",
        "  else:\n",
        "    print(\"  *   * \")"
      ],
      "metadata": {
        "colab": {
          "base_uri": "https://localhost:8080/"
        },
        "id": "ChFOCrJKXiqK",
        "outputId": "c45b3156-95ee-484e-b27a-8a1b20ca926c"
      },
      "execution_count": 16,
      "outputs": [
        {
          "output_type": "stream",
          "name": "stdout",
          "text": [
            "*       *\n",
            "  *   * \n",
            "    *   \n",
            "  *   * \n",
            "*       *\n"
          ]
        }
      ]
    },
    {
      "cell_type": "code",
      "source": [
        "#Y\n",
        "for y in range(1,6):\n",
        "  if y==1:\n",
        "    print(\"*       *\")\n",
        "  elif y==2:\n",
        "    print(\"  *   * \")\n",
        "  else:\n",
        "    print(\"    *   \")"
      ],
      "metadata": {
        "colab": {
          "base_uri": "https://localhost:8080/"
        },
        "id": "POcfHn-6YFIm",
        "outputId": "0379c90f-43a1-45c3-bca4-3dc2cf4b9ed1"
      },
      "execution_count": 17,
      "outputs": [
        {
          "output_type": "stream",
          "name": "stdout",
          "text": [
            "*       *\n",
            "  *   * \n",
            "    *   \n",
            "    *   \n",
            "    *   \n"
          ]
        }
      ]
    },
    {
      "cell_type": "code",
      "source": [
        "#Z\n",
        "for y in range(1,6):\n",
        "  if y==2:\n",
        "    print(\"      *  \")\n",
        "  elif y==3:\n",
        "    print(\"   *     \")\n",
        "  elif y==4:\n",
        "    print(\" *       \")\n",
        "  else:\n",
        "    print(\"* * * * *\")"
      ],
      "metadata": {
        "colab": {
          "base_uri": "https://localhost:8080/"
        },
        "id": "IvNUPRFnYdEm",
        "outputId": "3d8ecb78-0b81-4a83-fdf7-de1ad091794f"
      },
      "execution_count": 23,
      "outputs": [
        {
          "output_type": "stream",
          "name": "stdout",
          "text": [
            "* * * * *\n",
            "      *  \n",
            "   *     \n",
            " *       \n",
            "* * * * *\n"
          ]
        }
      ]
    }
  ]
}