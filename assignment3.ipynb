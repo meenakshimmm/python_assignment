{
  "nbformat": 4,
  "nbformat_minor": 0,
  "metadata": {
    "colab": {
      "provenance": []
    },
    "kernelspec": {
      "name": "python3",
      "display_name": "Python 3"
    },
    "language_info": {
      "name": "python"
    }
  },
  "cells": [
    {
      "cell_type": "markdown",
      "source": [
        "1) Write a Python program that prints all the numbers from\n",
        "0 to 6 except 3 and 6"
      ],
      "metadata": {
        "id": "6-YANNmnDRp1"
      }
    },
    {
      "cell_type": "code",
      "source": [
        "x=0\n",
        "while x<6:\n",
        "  if x<3 or x>3:\n",
        "    print(x)\n",
        "  x=x+1\n"
      ],
      "metadata": {
        "colab": {
          "base_uri": "https://localhost:8080/"
        },
        "id": "2tam8AnjDTAt",
        "outputId": "5c1afd0b-1e94-45ed-9417-9dbbd594d5a6"
      },
      "execution_count": null,
      "outputs": [
        {
          "output_type": "stream",
          "name": "stdout",
          "text": [
            "0\n",
            "1\n",
            "2\n",
            "4\n",
            "5\n"
          ]
        }
      ]
    },
    {
      "cell_type": "markdown",
      "source": [
        "2) Write a program to accept a number from a user and  calculate the sum of all numbers from 1 to a given number\n"
      ],
      "metadata": {
        "id": "8d5co_1-Hr4w"
      }
    },
    {
      "cell_type": "code",
      "source": [
        "x=int(input(\"enter a num\"))\n",
        "i=1\n",
        "sum=0\n",
        "while i<=x:\n",
        "  if i<=x:\n",
        "    sum=sum+i\n",
        "  i=i+1\n",
        "print(sum)"
      ],
      "metadata": {
        "colab": {
          "base_uri": "https://localhost:8080/"
        },
        "id": "bAY8TyknHuUW",
        "outputId": "ea023a5c-d6d9-4f02-97ba-47c123cd350f"
      },
      "execution_count": null,
      "outputs": [
        {
          "output_type": "stream",
          "name": "stdout",
          "text": [
            "enter a num5\n",
            "15\n"
          ]
        }
      ]
    },
    {
      "cell_type": "markdown",
      "source": [
        "3) Write a program to print multiplication table of a given  number(input)\n"
      ],
      "metadata": {
        "id": "7GdlHTrUIoLF"
      }
    },
    {
      "cell_type": "code",
      "source": [
        "x=int(input(\"enter a number:\"))\n",
        "i=1\n",
        "while i<=10:\n",
        "  print(\"{} x {} = {}\".format(x,i,x*i))\n",
        "  i=i+1\n"
      ],
      "metadata": {
        "id": "Kk04Xj-8Ipaj",
        "colab": {
          "base_uri": "https://localhost:8080/"
        },
        "outputId": "ed3aa117-cad0-4fda-d438-b81c908243d7"
      },
      "execution_count": null,
      "outputs": [
        {
          "output_type": "stream",
          "name": "stdout",
          "text": [
            "enter a number:5\n",
            "5 x 1 = 5\n",
            "5 x 2 = 10\n",
            "5 x 3 = 15\n",
            "5 x 4 = 20\n",
            "5 x 5 = 25\n",
            "5 x 6 = 30\n",
            "5 x 7 = 35\n",
            "5 x 8 = 40\n",
            "5 x 9 = 45\n",
            "5 x 10 = 50\n"
          ]
        }
      ]
    },
    {
      "cell_type": "markdown",
      "source": [
        "4) Write a program to count the total number of digits in a\n",
        "number using a while loop.\n",
        "\n",
        "For example, the number is 75869, so the output should be 5.\n"
      ],
      "metadata": {
        "id": "WKd_XjjvJN3-"
      }
    },
    {
      "cell_type": "code",
      "source": [
        "x=int(input(\"enter a number:\"))\n",
        "y=0\n",
        "while x>1:\n",
        "  x=x/10\n",
        "  y=y+1\n",
        "print(y)\n",
        "\n"
      ],
      "metadata": {
        "colab": {
          "base_uri": "https://localhost:8080/"
        },
        "id": "mfcC3rffJQ7q",
        "outputId": "5ea99a91-a206-4399-f4f3-87fab396e31c"
      },
      "execution_count": null,
      "outputs": [
        {
          "output_type": "stream",
          "name": "stdout",
          "text": [
            "enter a number:7687\n",
            "4\n"
          ]
        }
      ]
    },
    {
      "cell_type": "markdown",
      "source": [
        "5) Write a Python program to guess a number between 1 to\n",
        "\n",
        "Example:\n",
        "\n",
        "User is prompted to enter a guess. If the user guesses wrong\n",
        "then the prompt appears again until the guess is correct, on\n",
        "successful guess, user will get a \"Well guessed!\" message,\n",
        "and the program will exit."
      ],
      "metadata": {
        "id": "8dbzDX8PM55r"
      }
    },
    {
      "cell_type": "code",
      "source": [
        "x=int(input(\"enter a num 0-9:\"))\n",
        "while 0<x<10:\n",
        "  if x==5:\n",
        "    print(\"Well guessed!\")\n",
        "    break\n",
        "  else:\n",
        "    x=int(input(\"enter a num 0-9:\"))"
      ],
      "metadata": {
        "colab": {
          "base_uri": "https://localhost:8080/"
        },
        "id": "UOLYIU5PM7s0",
        "outputId": "96fdfaec-7503-49d4-9f7c-131a11724f47"
      },
      "execution_count": null,
      "outputs": [
        {
          "output_type": "stream",
          "name": "stdout",
          "text": [
            "enter a num 0-9:6\n",
            "enter a num 0-9:5\n",
            "Well guessed!\n"
          ]
        }
      ]
    },
    {
      "cell_type": "markdown",
      "source": [
        "6) Write a Python program which iterates the integers from 1\n",
        "to 60. For multiples of three print \"Fizz\" instead of the\n",
        "\n",
        "number and for the multiples of five print \"Buzz\". For\n",
        "numbers which are multiples of both three and five print\n",
        "\"FizzBuzz\"."
      ],
      "metadata": {
        "id": "nsce6C25Oggr"
      }
    },
    {
      "cell_type": "code",
      "source": [
        "x=int(input(\"enter a num:\"))\n",
        "while 0<x<=60:\n",
        "\n",
        "  if x%3==0 and x%5==0:\n",
        "    print(\"fizzbuzz\")\n",
        "    break\n",
        "  elif x%3==0:\n",
        "    print(\"fizz\")\n",
        "    break\n",
        "  elif x%5==0:\n",
        "    print(\"buzz\")\n",
        "    break\n",
        "  else:\n",
        "    print(\"not multiple of 3 or 5\")\n",
        "    break\n",
        "\n",
        "\n"
      ],
      "metadata": {
        "colab": {
          "base_uri": "https://localhost:8080/"
        },
        "id": "N3z1WtAqOoQy",
        "outputId": "7088f7e7-d66a-4075-dd29-1b57bfab1a97"
      },
      "execution_count": null,
      "outputs": [
        {
          "output_type": "stream",
          "name": "stdout",
          "text": [
            "enter a num:30\n",
            "fizzbuzz\n"
          ]
        }
      ]
    },
    {
      "cell_type": "markdown",
      "source": [
        "9) Write a program in Python to reverse a word by using\n",
        "while loop"
      ],
      "metadata": {
        "id": "eON76ElbdP8Z"
      }
    },
    {
      "cell_type": "code",
      "source": [
        "x=input(\"enter:\")\n",
        "i=len(x)-1\n",
        "y=\"\"\n",
        "while i>=0:\n",
        "  y=y+x[i]\n",
        "  i=i-1\n",
        "print(y)\n"
      ],
      "metadata": {
        "colab": {
          "base_uri": "https://localhost:8080/"
        },
        "id": "m25qbK7bdRiC",
        "outputId": "b56485f8-89da-403d-ac55-79ce3bb3db36"
      },
      "execution_count": null,
      "outputs": [
        {
          "output_type": "stream",
          "name": "stdout",
          "text": [
            "enter:meena\n",
            "aneem\n"
          ]
        }
      ]
    },
    {
      "cell_type": "markdown",
      "source": [
        "10) Write a program which takes 10 integers as input using loop\n",
        "and print their average value on the screen"
      ],
      "metadata": {
        "id": "OTVlPgfGiLP-"
      }
    },
    {
      "cell_type": "code",
      "source": [
        "x\n",
        "i=0\n",
        "sum=0\n",
        "div=0\n",
        "while i<10:\n",
        " if i<10:\n",
        "  x=int(input(\"enter  value\"))\n",
        "  sum=sum+x\n",
        " i=i+1\n",
        "div=sum/10\n",
        "print(div)\n"
      ],
      "metadata": {
        "colab": {
          "base_uri": "https://localhost:8080/"
        },
        "id": "ZpcNVkwliNY2",
        "outputId": "a81dd9ae-52a4-4d1b-a32e-c9597836cbee"
      },
      "execution_count": null,
      "outputs": [
        {
          "output_type": "stream",
          "name": "stdout",
          "text": [
            "enter  value1\n",
            "enter  value2\n",
            "enter  value3\n",
            "enter  value4\n",
            "enter  value5\n",
            "enter  value6\n",
            "enter  value7\n",
            "enter  value8\n",
            "enter  value9\n",
            "enter  value10\n",
            "5.5\n"
          ]
        }
      ]
    },
    {
      "cell_type": "markdown",
      "source": [
        "11) Write a program which takes integer inputs from user until\n",
        "he/she presses “q” (Ask to press q to quit after every integer\n",
        "input). Print average and product of all numbers."
      ],
      "metadata": {
        "id": "MQ-Ptiqtl-L-"
      }
    },
    {
      "cell_type": "code",
      "source": [
        "sum=0\n",
        "div=1\n",
        "y=0\n",
        "mul=1\n",
        "while x!=\"a\":\n",
        "  x=input(\"enter a num\")\n",
        "  print(\"press q to quit\")\n",
        "  if x==\"q\":\n",
        "    div=sum/y\n",
        "    print(\"avg is\",div)\n",
        "    print(\"product is\",mul)\n",
        "    break\n",
        "  else:\n",
        "    sum=sum+int(x)\n",
        "    mul=mul*int(x)\n",
        "    y=y+1\n"
      ],
      "metadata": {
        "colab": {
          "base_uri": "https://localhost:8080/"
        },
        "id": "NbOddp7zmFMX",
        "outputId": "99dc0687-fb84-4488-ef5a-cc569215ac3f"
      },
      "execution_count": null,
      "outputs": [
        {
          "output_type": "stream",
          "name": "stdout",
          "text": [
            "enter a num9\n",
            "press q to quit\n",
            "enter a num9\n",
            "press q to quit\n",
            "enter a num9\n",
            "press q to quit\n",
            "enter a numq\n",
            "press q to quit\n",
            "avg is 9.0\n",
            "product is 729\n"
          ]
        }
      ]
    },
    {
      "cell_type": "markdown",
      "source": [
        "13) Write a python program to find the sum of all even\n",
        "numbers from 0 to 10"
      ],
      "metadata": {
        "id": "_5xXkzygpcRQ"
      }
    },
    {
      "cell_type": "code",
      "source": [
        "sum=0\n",
        "x=1\n",
        "while x<=10:\n",
        "  if x%2==0:\n",
        "    sum=sum+x\n",
        "  x=x+1\n",
        "print(sum)"
      ],
      "metadata": {
        "colab": {
          "base_uri": "https://localhost:8080/"
        },
        "id": "IYq9j8mRpjYg",
        "outputId": "6dbbf827-4f92-48a2-c5fb-131a225d5160"
      },
      "execution_count": null,
      "outputs": [
        {
          "output_type": "stream",
          "name": "stdout",
          "text": [
            "30\n"
          ]
        }
      ]
    },
    {
      "cell_type": "markdown",
      "source": [
        "14) Write a python program which will accept a digit and print\n",
        "All the numbers before it till 0\n",
        "Example:\n",
        "\n",
        "Input:\n",
        "5\n",
        "Output:\n",
        "4\n",
        "3\n",
        "2\n",
        "1\n",
        "0"
      ],
      "metadata": {
        "id": "aPWGFvajq55r"
      }
    },
    {
      "cell_type": "code",
      "source": [
        "x=int(input(\"enter a num:\"))\n",
        "while x>0:\n",
        " x=x-1\n",
        " print(x)\n"
      ],
      "metadata": {
        "colab": {
          "base_uri": "https://localhost:8080/"
        },
        "id": "r14Tfep3q7Yk",
        "outputId": "1f4c721d-8c4c-48d6-ead3-c205aa00fe90"
      },
      "execution_count": null,
      "outputs": [
        {
          "output_type": "stream",
          "name": "stdout",
          "text": [
            "enter a num:6\n",
            "5\n",
            "4\n",
            "3\n",
            "2\n",
            "1\n",
            "0\n"
          ]
        }
      ]
    }
  ]
}