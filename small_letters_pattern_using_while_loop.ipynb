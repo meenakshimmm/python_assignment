{
  "nbformat": 4,
  "nbformat_minor": 0,
  "metadata": {
    "colab": {
      "provenance": []
    },
    "kernelspec": {
      "name": "python3",
      "display_name": "Python 3"
    },
    "language_info": {
      "name": "python"
    }
  },
  "cells": [
    {
      "cell_type": "code",
      "source": [
        "#a\n",
        "i=1\n",
        "while i<=5:\n",
        "  if i==1:\n",
        "    print(\"   * *\")\n",
        "  elif i==2 or i==4:\n",
        "    print(\" *   *\")\n",
        "  elif i==3:\n",
        "    print(\"*    *\")\n",
        "  else:\n",
        "    print(\"   *   * *\")\n",
        "  i=i+1"
      ],
      "metadata": {
        "colab": {
          "base_uri": "https://localhost:8080/"
        },
        "id": "urSAu1ylsBce",
        "outputId": "083af716-d958-4a2a-a35c-55c6a00fe203"
      },
      "execution_count": 56,
      "outputs": [
        {
          "output_type": "stream",
          "name": "stdout",
          "text": [
            "   * *\n",
            " *   *\n",
            "*    *\n",
            " *   *\n",
            "   *   * *\n"
          ]
        }
      ]
    },
    {
      "cell_type": "code",
      "execution_count": null,
      "metadata": {
        "colab": {
          "base_uri": "https://localhost:8080/"
        },
        "id": "GRhQ_JkztTjW",
        "outputId": "054f0740-e3e4-498a-8b0f-fa84a4877d3f"
      },
      "outputs": [
        {
          "output_type": "stream",
          "name": "stdout",
          "text": [
            "*      \n",
            "*      \n",
            "* *    \n",
            "*   *  \n",
            "* *    \n"
          ]
        }
      ],
      "source": [
        "#b\n",
        "i=1\n",
        "while i<=5:\n",
        "  if i==3 or i==5:\n",
        "    print(\"* *    \")\n",
        "  elif i==4:\n",
        "    print(\"*   *  \")\n",
        "  else:\n",
        "    print(\"*      \")\n",
        "  i=i+1\n"
      ]
    },
    {
      "cell_type": "code",
      "source": [
        "#c\n",
        "i=1\n",
        "while i<=4:\n",
        "  if i==2 or i==3:\n",
        "    print(\"  *   \")\n",
        "  else:\n",
        "    print(\"    * *\")\n",
        "  i=i+1"
      ],
      "metadata": {
        "colab": {
          "base_uri": "https://localhost:8080/"
        },
        "id": "hhnMhrjVvvh5",
        "outputId": "8b07d216-24b0-4f39-889c-d2f72207d273"
      },
      "execution_count": 60,
      "outputs": [
        {
          "output_type": "stream",
          "name": "stdout",
          "text": [
            "    * *\n",
            "  *   \n",
            "  *   \n",
            "    * *\n"
          ]
        }
      ]
    },
    {
      "cell_type": "code",
      "source": [
        "#d\n",
        "i=1\n",
        "while i<=5:\n",
        "  if i==5 or i==3:\n",
        "    print(\"  * * *\")\n",
        "  elif i==4:\n",
        "    print(\" *    *\")\n",
        "  else:\n",
        "    print(\"      *\")\n",
        "  i=i+1"
      ],
      "metadata": {
        "colab": {
          "base_uri": "https://localhost:8080/"
        },
        "id": "87cMASpawo6S",
        "outputId": "f1afb8be-17ad-48be-df64-645f4abc4c0f"
      },
      "execution_count": null,
      "outputs": [
        {
          "output_type": "stream",
          "name": "stdout",
          "text": [
            "      *\n",
            "      *\n",
            "  * * *\n",
            " *    *\n",
            "  * * *\n"
          ]
        }
      ]
    },
    {
      "cell_type": "code",
      "source": [
        "#e\n",
        "i=1\n",
        "while i<=5:\n",
        "  if i==4 :\n",
        "    print(\"*    \")\n",
        "  elif i==2:\n",
        "    print(\"*     *\")\n",
        "  elif i==3:\n",
        "    print(\"* * * *\")\n",
        "  elif i==1:\n",
        "    print(\"  * * \")\n",
        "  else:\n",
        "    print(\"  * * *\")\n",
        "  i=i+1"
      ],
      "metadata": {
        "colab": {
          "base_uri": "https://localhost:8080/"
        },
        "id": "O2W3dQQ5yP51",
        "outputId": "902f216d-d89e-4fe6-8e66-bd9797ba5d29"
      },
      "execution_count": null,
      "outputs": [
        {
          "output_type": "stream",
          "name": "stdout",
          "text": [
            "  * * \n",
            "*     *\n",
            "* * * *\n",
            "*    \n",
            "  * * *\n"
          ]
        }
      ]
    },
    {
      "cell_type": "code",
      "source": [
        "#f\n",
        "i=1\n",
        "while i<=6:\n",
        "  if i==4 :\n",
        "    print(\"* * * *  \")\n",
        "  elif i==2:\n",
        "    print(\"  *   *\")\n",
        "\n",
        "  elif i==1:\n",
        "    print(\"   * * \")\n",
        "  else:\n",
        "    print(\"  * \")\n",
        "  i=i+1"
      ],
      "metadata": {
        "colab": {
          "base_uri": "https://localhost:8080/"
        },
        "id": "kW7JHgoa02tH",
        "outputId": "cd1a70f7-3a36-4673-8532-5401d9263892"
      },
      "execution_count": null,
      "outputs": [
        {
          "output_type": "stream",
          "name": "stdout",
          "text": [
            "   * * \n",
            "  *   *\n",
            "  * \n",
            "* * * *  \n",
            "  * \n",
            "  * \n"
          ]
        }
      ]
    },
    {
      "cell_type": "code",
      "source": [
        "#g\n",
        "i=1\n",
        "while i<=6:\n",
        "  if i==5 or i==2 :\n",
        "    print(\"*     *\")\n",
        "  elif i==1 or i==6 or i==3:\n",
        "    print(\"  * * * \")\n",
        "  else:\n",
        "    print(\"      * \")\n",
        "  i=i+1"
      ],
      "metadata": {
        "colab": {
          "base_uri": "https://localhost:8080/"
        },
        "id": "_cFhUlAY23ln",
        "outputId": "1e7be71a-472c-41b8-8ccb-57ccd0c72e98"
      },
      "execution_count": null,
      "outputs": [
        {
          "output_type": "stream",
          "name": "stdout",
          "text": [
            "  * * * \n",
            "*     *\n",
            "  * * * \n",
            "      * \n",
            "*     *\n",
            "  * * * \n"
          ]
        }
      ]
    },
    {
      "cell_type": "code",
      "source": [],
      "metadata": {
        "id": "xQg9meA331EA"
      },
      "execution_count": null,
      "outputs": []
    },
    {
      "cell_type": "code",
      "source": [
        "#h\n",
        "i=1\n",
        "while i<=5:\n",
        "  if i==3:\n",
        "    print(\"* * * \")\n",
        "  elif i==4 or i==5:\n",
        "    print(\"*    *\")\n",
        "  else:\n",
        "    print(\"*\")\n",
        "  i=i+1"
      ],
      "metadata": {
        "colab": {
          "base_uri": "https://localhost:8080/"
        },
        "id": "mH9q37la36Fj",
        "outputId": "5850d096-6ab0-4b1d-fbab-dd4956182796"
      },
      "execution_count": null,
      "outputs": [
        {
          "output_type": "stream",
          "name": "stdout",
          "text": [
            "*\n",
            "*\n",
            "* * * \n",
            "*    *\n",
            "*    *\n"
          ]
        }
      ]
    },
    {
      "cell_type": "code",
      "source": [
        "#i\n",
        "i=1\n",
        "while i<=6:\n",
        "  if i==1:\n",
        "    print(\"  o\")\n",
        "  elif i==2:\n",
        "    print(\"    \")\n",
        "  else:\n",
        "    print(\"  *   \")\n",
        "  i=i+1"
      ],
      "metadata": {
        "colab": {
          "base_uri": "https://localhost:8080/"
        },
        "id": "lTpqX9Ef4Qks",
        "outputId": "aa70f5d6-19f1-4a20-9354-79cca80e13b7"
      },
      "execution_count": null,
      "outputs": [
        {
          "output_type": "stream",
          "name": "stdout",
          "text": [
            "  o\n",
            "    \n",
            "  *   \n",
            "  *   \n",
            "  *   \n",
            "  *   \n"
          ]
        }
      ]
    },
    {
      "cell_type": "code",
      "source": [
        "#j\n",
        "i=1\n",
        "while i<=6:\n",
        "  if i==1:\n",
        "    print(\"     o\")\n",
        "  elif i==2:\n",
        "    print(\"    \")\n",
        "  elif i==6:\n",
        "    print(\"  * *  \")\n",
        "  elif i==5:\n",
        "    print(\" *   *\")\n",
        "  else:\n",
        "    print(\"     *\")\n",
        "  i=i+1"
      ],
      "metadata": {
        "colab": {
          "base_uri": "https://localhost:8080/"
        },
        "id": "n-k-Y9tH4xff",
        "outputId": "2689f99c-9f9d-43ef-e520-d83983da453c"
      },
      "execution_count": null,
      "outputs": [
        {
          "output_type": "stream",
          "name": "stdout",
          "text": [
            "     o\n",
            "    \n",
            "     *\n",
            "     *\n",
            " *   *\n",
            "  * *  \n"
          ]
        }
      ]
    },
    {
      "cell_type": "code",
      "source": [
        "#k\n",
        "i=1\n",
        "while i<=6:\n",
        "  if i==1:\n",
        "    print(\"*\")\n",
        "  elif i==2 or i==4:\n",
        "    print(\"*  * \")\n",
        "  elif i==3:\n",
        "    print(\"**\")\n",
        "  else:\n",
        "    print(\"*   *\")\n",
        "  i=i+1"
      ],
      "metadata": {
        "colab": {
          "base_uri": "https://localhost:8080/"
        },
        "id": "rLKyT6xl5j0i",
        "outputId": "bfcb2c6b-af33-47b1-f4a5-cb342c995b06"
      },
      "execution_count": null,
      "outputs": [
        {
          "output_type": "stream",
          "name": "stdout",
          "text": [
            "*\n",
            "*  * \n",
            "**\n",
            "*  * \n",
            "*   *\n",
            "*   *\n"
          ]
        }
      ]
    },
    {
      "cell_type": "code",
      "source": [
        "#l\n",
        "i=1\n",
        "while i<=6:\n",
        "  if i==6:\n",
        "    print(\"* * \")\n",
        "  else:\n",
        "    print(\"*\")\n",
        "  i=i+1"
      ],
      "metadata": {
        "colab": {
          "base_uri": "https://localhost:8080/"
        },
        "id": "jCVVI1Dfk5Uz",
        "outputId": "f8c0f94e-3468-4e5b-93d4-3ec0471d9214"
      },
      "execution_count": null,
      "outputs": [
        {
          "output_type": "stream",
          "name": "stdout",
          "text": [
            "*\n",
            "*\n",
            "*\n",
            "*\n",
            "*\n",
            "* * \n"
          ]
        }
      ]
    },
    {
      "cell_type": "code",
      "source": [
        "#m\n",
        "i=1\n",
        "while i<=5:\n",
        " if i==3:\n",
        "  print(\"  *  *  *\")\n",
        " elif i==4 or i==5:\n",
        "  print(\"  *     *\")\n",
        " elif i==1:\n",
        "   print(\"*   \")\n",
        " else:\n",
        "  print(\" * *   *\")\n",
        " i=i+1"
      ],
      "metadata": {
        "colab": {
          "base_uri": "https://localhost:8080/"
        },
        "id": "0V5rsIcmlaWB",
        "outputId": "b2eb1049-420b-46d8-e47b-881febfa4073"
      },
      "execution_count": null,
      "outputs": [
        {
          "output_type": "stream",
          "name": "stdout",
          "text": [
            "*   \n",
            " * *   *\n",
            "  *  *  *\n",
            "  *     *\n",
            "  *     *\n"
          ]
        }
      ]
    },
    {
      "cell_type": "code",
      "source": [
        "#n\n",
        "i=1\n",
        "while i<=4:\n",
        "  if i==1:\n",
        "    print(\"*\")\n",
        "  elif i==2:\n",
        "      print(\" * *\")\n",
        "  else:\n",
        "      print(\" *   *\")\n",
        "  i=i+1"
      ],
      "metadata": {
        "colab": {
          "base_uri": "https://localhost:8080/"
        },
        "id": "AZeEsxBGnbSK",
        "outputId": "61569e14-320a-4a6e-eace-fb8df049c528"
      },
      "execution_count": null,
      "outputs": [
        {
          "output_type": "stream",
          "name": "stdout",
          "text": [
            "*\n",
            " * *\n",
            " *   *\n",
            " *   *\n"
          ]
        }
      ]
    },
    {
      "cell_type": "code",
      "source": [
        "#o\n",
        "i=1\n",
        "while i<=3:\n",
        "  if i==1 or i==3:\n",
        "    print(\" * *\")\n",
        "  else:\n",
        "    print(\"*   *\")\n",
        "  i=i+1\n"
      ],
      "metadata": {
        "colab": {
          "base_uri": "https://localhost:8080/"
        },
        "id": "eK-uhYO5oHxx",
        "outputId": "fe1c3ff5-7b4a-4dc8-d41c-a338c5b63c69"
      },
      "execution_count": null,
      "outputs": [
        {
          "output_type": "stream",
          "name": "stdout",
          "text": [
            " * *\n",
            "*   *\n",
            " * *\n"
          ]
        }
      ]
    },
    {
      "cell_type": "code",
      "source": [
        "#p\n",
        "i=1\n",
        "while i<=7:\n",
        "  if i==3:\n",
        "    print(\"*  *\")\n",
        "  elif i==2 or i==4:\n",
        "    print(\"* *\")\n",
        "  else:\n",
        "    print(\"*\")\n",
        "  i=i+1"
      ],
      "metadata": {
        "colab": {
          "base_uri": "https://localhost:8080/"
        },
        "id": "GLbSDZz8okwB",
        "outputId": "3d183755-47ba-461a-c8c6-19fd4a337862"
      },
      "execution_count": null,
      "outputs": [
        {
          "output_type": "stream",
          "name": "stdout",
          "text": [
            "*\n",
            "* *\n",
            "*  *\n",
            "* *\n",
            "*\n",
            "*\n",
            "*\n"
          ]
        }
      ]
    },
    {
      "cell_type": "code",
      "source": [
        "#q\n",
        "\n",
        "i=1\n",
        "while i<=6:\n",
        "  if i==2:\n",
        "    print(\"*   *\")\n",
        "  elif i==3:\n",
        "    print(\" *  *\")\n",
        "  elif i==1:\n",
        "    print(\"  * *\")\n",
        "  else:\n",
        "    print(\"    *\")\n",
        "  i=i+1"
      ],
      "metadata": {
        "colab": {
          "base_uri": "https://localhost:8080/"
        },
        "id": "L4AH2PA6pnKN",
        "outputId": "e333037a-f687-4ffd-a676-598e8f64a35f"
      },
      "execution_count": null,
      "outputs": [
        {
          "output_type": "stream",
          "name": "stdout",
          "text": [
            "  * *\n",
            "*   *\n",
            " *  *\n",
            "    *\n",
            "    *\n",
            "    *\n"
          ]
        }
      ]
    },
    {
      "cell_type": "code",
      "source": [
        "#r\n",
        "i=1\n",
        "while i<=5:\n",
        "  if i==1:\n",
        "    print(\"*\")\n",
        "  elif i==2:\n",
        "      print(\"* * *\")\n",
        "  elif i==3:\n",
        "      print(\"*    *\")\n",
        "  else:\n",
        "    print(\"*\")\n",
        "  i=i+1"
      ],
      "metadata": {
        "colab": {
          "base_uri": "https://localhost:8080/"
        },
        "id": "8cEGwLOlrHKN",
        "outputId": "c06ea5f1-ba37-4df7-e8ff-901d3b44bf8b"
      },
      "execution_count": null,
      "outputs": [
        {
          "output_type": "stream",
          "name": "stdout",
          "text": [
            "*\n",
            "* * *\n",
            "*    *\n",
            "*\n",
            "*\n"
          ]
        }
      ]
    },
    {
      "cell_type": "code",
      "source": [
        "#s\n",
        "i=1\n",
        "while i<=5:\n",
        "  if i==1 or i==3 or i==5:\n",
        "    print(\" * * * \")\n",
        "  elif i==2:\n",
        "    print(\"*\")\n",
        "  else:\n",
        "    print(\"      *\")\n",
        "  i=i+1\n"
      ],
      "metadata": {
        "colab": {
          "base_uri": "https://localhost:8080/"
        },
        "id": "I7R84bH_jHCO",
        "outputId": "9b21ec70-9fd5-4287-a8d9-aa5ac850c491"
      },
      "execution_count": null,
      "outputs": [
        {
          "output_type": "stream",
          "name": "stdout",
          "text": [
            " * * * \n",
            "*\n",
            " * * * \n",
            "      *\n",
            " * * * \n"
          ]
        }
      ]
    },
    {
      "cell_type": "code",
      "source": [
        "#t\n",
        "i=1\n",
        "while i<=5:\n",
        "  if i==3:\n",
        "    print(\"* * *\")\n",
        "  elif i==5:\n",
        "    print(\"   * *\")\n",
        "  else:\n",
        "    print(\"  *\")\n",
        "  i=i+1"
      ],
      "metadata": {
        "colab": {
          "base_uri": "https://localhost:8080/"
        },
        "id": "P975q0lclkmk",
        "outputId": "cb436021-5073-4932-f676-23f4d56275d2"
      },
      "execution_count": null,
      "outputs": [
        {
          "output_type": "stream",
          "name": "stdout",
          "text": [
            "  *\n",
            "  *\n",
            "* * *\n",
            "  *\n",
            "   * *\n"
          ]
        }
      ]
    },
    {
      "cell_type": "code",
      "source": [
        "#u\n",
        "i=1\n",
        "while i<=4:\n",
        "  if i==1:\n",
        "    print(\"*     *\")\n",
        "  elif i==2:\n",
        "    print(\"*     *\")\n",
        "  elif i==3:\n",
        "    print(\" *    *\")\n",
        "  else:\n",
        "    print(\"  * *   *\")\n",
        "  i=i+1\n"
      ],
      "metadata": {
        "colab": {
          "base_uri": "https://localhost:8080/"
        },
        "id": "emFTt3LOmPpZ",
        "outputId": "ac30a9e9-0e88-4b2b-9e71-27a28f5a73f7"
      },
      "execution_count": null,
      "outputs": [
        {
          "output_type": "stream",
          "name": "stdout",
          "text": [
            "*     *\n",
            "*     *\n",
            " *    *\n",
            "  * *   *\n"
          ]
        }
      ]
    },
    {
      "cell_type": "code",
      "source": [
        "#v\n",
        "i=1\n",
        "while i<=4:\n",
        "  if i==1:\n",
        "    print(\"*     *\")\n",
        "  elif i==2:\n",
        "    print(\" *   *\")\n",
        "  elif i==3:\n",
        "    print(\"  * *\")\n",
        "  else:\n",
        "    print(\"   *\")\n",
        "  i=i+1"
      ],
      "metadata": {
        "colab": {
          "base_uri": "https://localhost:8080/"
        },
        "id": "uxjnFMFXnUp3",
        "outputId": "d8815cc8-987e-41bb-814f-b69030b0daa3"
      },
      "execution_count": null,
      "outputs": [
        {
          "output_type": "stream",
          "name": "stdout",
          "text": [
            "*     *\n",
            " *   *\n",
            "  * *\n",
            "   *\n"
          ]
        }
      ]
    },
    {
      "cell_type": "code",
      "source": [
        "#w\n",
        "i=1\n",
        "while i<=4:\n",
        "  if i==3:\n",
        "    print(\"* *   * *\")\n",
        "  elif i==2:\n",
        "    print(\"*   *   *\")\n",
        "  else:\n",
        "    print(\"*       *\")\n",
        "  i=i+1\n"
      ],
      "metadata": {
        "id": "556xiGP_nwyt",
        "colab": {
          "base_uri": "https://localhost:8080/"
        },
        "outputId": "daf84ba0-8bf6-4165-f123-1dd37ce81d3b"
      },
      "execution_count": 32,
      "outputs": [
        {
          "output_type": "stream",
          "name": "stdout",
          "text": [
            "*       *\n",
            "*   *   *\n",
            "* *   * *\n",
            "*       *\n"
          ]
        }
      ]
    },
    {
      "cell_type": "code",
      "source": [
        "#x\n",
        "i=1\n",
        "while i<=5:\n",
        "  if i==1 or i==5:\n",
        "    print(\"*      *\")\n",
        "  elif i==3:\n",
        "    print(\"   *\")\n",
        "  else:\n",
        "    print(\" *   *\")\n",
        "  i=i+1"
      ],
      "metadata": {
        "colab": {
          "base_uri": "https://localhost:8080/"
        },
        "id": "uW14RIaponpl",
        "outputId": "29c7bd1c-e2fa-4067-c913-7114401881a2"
      },
      "execution_count": 44,
      "outputs": [
        {
          "output_type": "stream",
          "name": "stdout",
          "text": [
            "*      *\n",
            " *   *\n",
            "   *\n",
            " *   *\n",
            "*      *\n"
          ]
        }
      ]
    },
    {
      "cell_type": "code",
      "source": [
        "#y\n",
        "i=1\n",
        "while i<=5:\n",
        "  if i==1:\n",
        "    print(\"*    *\")\n",
        "  elif i==2:\n",
        "    print(\" *  *\")\n",
        "  elif i==3:\n",
        "    print(\"  *\")\n",
        "  elif i==4:\n",
        "    print(\" *\")\n",
        "  else:\n",
        "    print(\"*\")\n",
        "  i=i+1"
      ],
      "metadata": {
        "colab": {
          "base_uri": "https://localhost:8080/"
        },
        "id": "vD-VsgMlpxbO",
        "outputId": "5beaed7d-f8b1-4e9d-813e-0878297a4a52"
      },
      "execution_count": 46,
      "outputs": [
        {
          "output_type": "stream",
          "name": "stdout",
          "text": [
            "*    *\n",
            " *  *\n",
            "  *\n",
            " *\n",
            "*\n"
          ]
        }
      ]
    },
    {
      "cell_type": "code",
      "source": [
        "#z\n",
        "i=1\n",
        "while i<=4:\n",
        "  if i==1 or i==4:\n",
        "    print(\"* * *\")\n",
        "  elif i==2:\n",
        "    print(\"   *\")\n",
        "  else:\n",
        "    print(\" *\")\n",
        "  i=i+1"
      ],
      "metadata": {
        "colab": {
          "base_uri": "https://localhost:8080/"
        },
        "id": "887wcFXnqaJQ",
        "outputId": "036f986e-07b8-4124-fae8-e1225cd2c92c"
      },
      "execution_count": 51,
      "outputs": [
        {
          "output_type": "stream",
          "name": "stdout",
          "text": [
            "* * *\n",
            "   *\n",
            " *\n",
            "* * *\n"
          ]
        }
      ]
    }
  ]
}