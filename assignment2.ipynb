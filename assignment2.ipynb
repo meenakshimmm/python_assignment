{
  "nbformat": 4,
  "nbformat_minor": 0,
  "metadata": {
    "colab": {
      "provenance": []
    },
    "kernelspec": {
      "name": "python3",
      "display_name": "Python 3"
    },
    "language_info": {
      "name": "python"
    }
  },
  "cells": [
    {
      "cell_type": "markdown",
      "source": [
        "1.Write a program to accept two numbers from the user\n",
        "and calculate multiplication, division"
      ],
      "metadata": {
        "id": "rjjc-HEfxUEE"
      }
    },
    {
      "cell_type": "code",
      "execution_count": null,
      "metadata": {
        "colab": {
          "base_uri": "https://localhost:8080/"
        },
        "id": "zP9oXzCxvP-T",
        "outputId": "f816c5d0-fb31-4b1e-d4de-98ffb2c8a7b9"
      },
      "outputs": [
        {
          "output_type": "stream",
          "name": "stdout",
          "text": [
            "enter first value3\n",
            "enter second value5\n",
            "multiplication of 3*5=15\n",
            "division of 3/5=0.6\n"
          ]
        }
      ],
      "source": [
        "\n",
        "x= int(input(\"enter first value\"))\n",
        "y= int(input(\"enter second value\"))\n",
        "print(\"multiplication of {}*{}={}\".format(x,y,x*y))\n",
        "print(\"division of {}/{}={}\".format(x,y,x/y))"
      ]
    },
    {
      "cell_type": "markdown",
      "source": [
        "2.Write a python program to print the characters from a\n",
        "string that are present at an even index"
      ],
      "metadata": {
        "id": "od2YHrbBxeEH"
      }
    },
    {
      "cell_type": "code",
      "source": [
        "x=input(\"enter a string \")\n",
        "i=1\n",
        "while i<len(x):\n",
        "  if i%2==0:\n",
        "    print(x[i])\n",
        "  i=i+1"
      ],
      "metadata": {
        "colab": {
          "base_uri": "https://localhost:8080/"
        },
        "id": "wyVkY2K4xly2",
        "outputId": "baffbe01-7877-4508-e296-aee91cfd0709"
      },
      "execution_count": null,
      "outputs": [
        {
          "output_type": "stream",
          "name": "stdout",
          "text": [
            "enter a string meena\n",
            "e\n",
            "a\n"
          ]
        }
      ]
    },
    {
      "cell_type": "markdown",
      "source": [
        "3) Write a python program to print the characters from a\n",
        "string that are present at an odd index"
      ],
      "metadata": {
        "id": "Ox2MpFXTzZWA"
      }
    },
    {
      "cell_type": "code",
      "source": [
        "x=input(\"enter a string \")\n",
        "i=1\n",
        "while i<len(x):\n",
        "  if i%2==1:\n",
        "    print(x[i])\n",
        "  i=i+1"
      ],
      "metadata": {
        "colab": {
          "base_uri": "https://localhost:8080/"
        },
        "id": "oYqIRyGgzhEa",
        "outputId": "70008a32-6b75-4f0a-8410-c6ab1942fbe7"
      },
      "execution_count": null,
      "outputs": [
        {
          "output_type": "stream",
          "name": "stdout",
          "text": [
            "enter a string  meenakshi\n",
            "m\n",
            "e\n",
            "a\n",
            "s\n",
            "i\n"
          ]
        }
      ]
    },
    {
      "cell_type": "markdown",
      "source": [
        "4) Write a python program which will print the sum of the\n",
        "two numbers if the two numbers are even or it will print the\n",
        "difference of two numbers"
      ],
      "metadata": {
        "id": "YEFHx6QpzxwP"
      }
    },
    {
      "cell_type": "code",
      "source": [
        "x=int(input(\"enter x value \"))\n",
        "y=int(input(\"enter y value \"))\n",
        "if x%2==0 and y%2==0:\n",
        "  print(\"sum of two numbers is {}\".format(x+y))\n",
        "elif x%2==1 and x%2==1:\n",
        "  print(\"difference of two numbers is {} \".format(x-y))\n",
        "else:\n",
        "  print(\"enter both either odd or even\")"
      ],
      "metadata": {
        "colab": {
          "base_uri": "https://localhost:8080/"
        },
        "id": "oNUIUiQUz37V",
        "outputId": "24d95c54-d6be-4dd8-f9fe-11555d28d924"
      },
      "execution_count": null,
      "outputs": [
        {
          "output_type": "stream",
          "name": "stdout",
          "text": [
            "enter x value 6\n",
            "enter y value 8\n",
            "sum of two numbers is 14\n"
          ]
        }
      ]
    },
    {
      "cell_type": "markdown",
      "source": [
        "5) Write a python program to convert all even indexed\n",
        "alphabets to upper and odd indexed char"
      ],
      "metadata": {
        "id": "rMEnbFlT1Qyj"
      }
    },
    {
      "cell_type": "code",
      "source": [
        "x=input(\"enter a string \")\n",
        "y=0\n",
        "var=\"\"\n",
        "while y<len(x):\n",
        "  if y%2==0:\n",
        "    var=var+x[y].upper()\n",
        "  else:\n",
        "    var=var+x[y].lower()\n",
        "  y=y+1\n",
        "print(var)"
      ],
      "metadata": {
        "colab": {
          "base_uri": "https://localhost:8080/"
        },
        "id": "mZBn5zgI1ym4",
        "outputId": "5b5e7f8c-67d2-4ae2-bd6d-2b33fb6549d8"
      },
      "execution_count": null,
      "outputs": [
        {
          "output_type": "stream",
          "name": "stdout",
          "text": [
            "enter a string JGHFHjhhgfhg\n",
            "JgHfHjHhGfHg\n"
          ]
        }
      ]
    },
    {
      "cell_type": "markdown",
      "source": [
        "6) Write a python program which will print True if the input\n",
        "number is divisible by 5 or else False\n"
      ],
      "metadata": {
        "id": "hWHHDoH-UHzM"
      }
    },
    {
      "cell_type": "code",
      "source": [
        "x=int(input(\"enter a number\"))\n",
        "if x%5==0:\n",
        "  print(\"true\")\n",
        "else:\n",
        "  print(\"false\")"
      ],
      "metadata": {
        "colab": {
          "base_uri": "https://localhost:8080/"
        },
        "id": "TBkHYnxiUMtM",
        "outputId": "32450849-763a-424f-bcb3-1f9c54c08024"
      },
      "execution_count": null,
      "outputs": [
        {
          "output_type": "stream",
          "name": "stdout",
          "text": [
            "enter a number25\n",
            "true\n"
          ]
        }
      ]
    },
    {
      "cell_type": "markdown",
      "source": [
        "7) Given two integer numbers return their product only if the\n",
        "product is greater than 1000, else return their sum"
      ],
      "metadata": {
        "id": "lRsMrZ7LUuqU"
      }
    },
    {
      "cell_type": "code",
      "source": [
        "x=int(input(\"enter x\"))\n",
        "y=int(input(\"enter y\"))\n",
        "z=x*y\n",
        "if z>5=1000:\n",
        "  print(x*y)\n",
        "else:\n",
        "  print(x+y)"
      ],
      "metadata": {
        "colab": {
          "base_uri": "https://localhost:8080/"
        },
        "id": "NLz77mNOUxT5",
        "outputId": "3cfbbd5d-ee0f-424e-9f61-7d745e1d4c27"
      },
      "execution_count": null,
      "outputs": [
        {
          "output_type": "stream",
          "name": "stdout",
          "text": [
            "enter x50\n",
            "enter y50\n",
            "2500\n"
          ]
        }
      ]
    },
    {
      "cell_type": "markdown",
      "source": [
        "8) Given two strings x, y writes a program to return a new\n",
        "string made of x and y’s first, middle, and last characters\n",
        "\n",
        "Example:\n",
        "\n",
        "Input\n",
        "\n",
        "X=” pytho”\n",
        "\n",
        "Y=” javas”\n",
        "\n",
        "Output\n",
        "\n",
        "” pjtvos”"
      ],
      "metadata": {
        "id": "0loAsZTnV35h"
      }
    },
    {
      "cell_type": "code",
      "source": [
        "x=input(\"enter x\")\n",
        "y=input(\"enter y\")\n",
        "z=\"\"\n",
        "a=0\n",
        "while a<len(x):\n",
        "  if a%2==0:\n",
        "    z=z+x[a]+y[a]\n",
        "  a=a+1\n",
        "print(z)\n"
      ],
      "metadata": {
        "colab": {
          "base_uri": "https://localhost:8080/"
        },
        "id": "vW_M3TVOV5z6",
        "outputId": "74b7db17-f39d-4941-8b7f-7e80eea0a4dd"
      },
      "execution_count": null,
      "outputs": [
        {
          "output_type": "stream",
          "name": "stdout",
          "text": [
            "enter xpythos\n",
            "enter yjavas\n",
            "pjtvos\n"
          ]
        }
      ]
    },
    {
      "cell_type": "markdown",
      "source": [
        "11) Write a Python program to add 'ing' at the end of a given\n",
        "string (string length should be equal to or more than 3). If\n",
        "the given string already ends with 'ing' then add 'ly' instead.\n",
        "If the string length of the given string is less than 3, leave it\n",
        "unchanged"
      ],
      "metadata": {
        "id": "RSqnsvhIcmwt"
      }
    },
    {
      "cell_type": "code",
      "source": [
        "x=input(\"enter a string\")\n",
        "y=0\n",
        "if len(x)>3:\n",
        "  if x[-1]==\"g\" and x[-2]==\"n\" and x[-3]==\"i\":\n",
        "    print(x+\"ly\")\n",
        "  else:\n",
        "    print(x+\"ing\")\n",
        "\n"
      ],
      "metadata": {
        "colab": {
          "base_uri": "https://localhost:8080/"
        },
        "id": "_zjxdpPWcobd",
        "outputId": "fc836aff-31a3-46b2-bcc2-17f9ab89855d"
      },
      "execution_count": null,
      "outputs": [
        {
          "output_type": "stream",
          "name": "stdout",
          "text": [
            "enter a stringsing\n",
            "singly\n"
          ]
        }
      ]
    },
    {
      "cell_type": "markdown",
      "source": [
        "12) Write a python program that accepts two inputs num1 and\n",
        "num2 print True if one of them is 10 or if their sum is 10\n",
        "otherwise print False"
      ],
      "metadata": {
        "id": "h3Rwb-lAfako"
      }
    },
    {
      "cell_type": "code",
      "source": [
        "x=int(input(\"enter num1 \"))\n",
        "y=int(input(\"enter num2 \"))\n",
        "if x==10 or y==10 or x+y==10:\n",
        "  print(\"true\")\n",
        "else:\n",
        " print(\"false\")\n"
      ],
      "metadata": {
        "colab": {
          "base_uri": "https://localhost:8080/"
        },
        "id": "7uSnCO-tfc_5",
        "outputId": "2bd89873-87cd-45c2-e7f1-48e8758b861d"
      },
      "execution_count": null,
      "outputs": [
        {
          "output_type": "stream",
          "name": "stdout",
          "text": [
            "enter num1 56\n",
            "enter num2 78\n",
            "false\n"
          ]
        }
      ]
    },
    {
      "cell_type": "markdown",
      "source": [
        "13) Write a python program that accepts three inputs x, y and\n",
        "z print True if x*y>z otherwise False"
      ],
      "metadata": {
        "id": "x4XgGckjgYz6"
      }
    },
    {
      "cell_type": "code",
      "source": [
        "x=int(input(\"enter x \"))\n",
        "y=int(input(\"enter y \"))\n",
        "z=int(input(\"enter z \"))\n",
        "if x*y>z:\n",
        "  print(\"true\")\n",
        "else:\n",
        "  print(\"false\")"
      ],
      "metadata": {
        "colab": {
          "base_uri": "https://localhost:8080/"
        },
        "id": "JcCuKyWqgaCU",
        "outputId": "e2ea1698-5d9a-47ac-bdcd-397971836812"
      },
      "execution_count": null,
      "outputs": [
        {
          "output_type": "stream",
          "name": "stdout",
          "text": [
            "enter x 2\n",
            "enter y 3\n",
            "enter z 9\n",
            "false\n"
          ]
        }
      ]
    },
    {
      "cell_type": "markdown",
      "source": [
        "14) Write a python program that accepts two strings inputs\n",
        "return True depending on whether the total number of\n",
        "characters in the first string is equal to the total number of\n",
        "characters in the second string"
      ],
      "metadata": {
        "id": "z2zFPf4EHSBm"
      }
    },
    {
      "cell_type": "code",
      "source": [
        "x=input(\"enter string one\")\n",
        "y=input(\"enter string two\")\n",
        "if len(x)==len(y):\n",
        "  print(\"true\")\n",
        "else:\n",
        "  print(\"false\")"
      ],
      "metadata": {
        "colab": {
          "base_uri": "https://localhost:8080/"
        },
        "id": "cxAd0ykxHY-F",
        "outputId": "e8a89944-5705-4c14-d91b-235914c00388"
      },
      "execution_count": 1,
      "outputs": [
        {
          "output_type": "stream",
          "name": "stdout",
          "text": [
            "enter string onemeena\n",
            "enter string twobannu\n",
            "true\n"
          ]
        }
      ]
    },
    {
      "cell_type": "markdown",
      "source": [
        "15) Write a python program that takes a string input, we'll say\n",
        "that the front is the first three characters of the string. If the\n",
        "string length is less than three characters, the front is\n",
        "whatever is there. Return a new string, which is three copies\n",
        "of the front"
      ],
      "metadata": {
        "id": "E2a4EmjhH8gq"
      }
    },
    {
      "cell_type": "code",
      "source": [
        "x=input(\"enter a string\")\n",
        "y=\"\"\n",
        "if len(x)>=3:\n",
        "  y=(x[0]+x[1]+x[2])*3\n",
        "print(y)"
      ],
      "metadata": {
        "colab": {
          "base_uri": "https://localhost:8080/"
        },
        "id": "6aFlBVRBIJNb",
        "outputId": "00c42aec-d6ec-4604-fec0-9143e1864202"
      },
      "execution_count": 3,
      "outputs": [
        {
          "output_type": "stream",
          "name": "stdout",
          "text": [
            "enter a stringmeena\n",
            "meemeemee\n"
          ]
        }
      ]
    },
    {
      "cell_type": "markdown",
      "source": [
        "16) Write a python program that takes in a word and\n",
        "determines whether or not it is plural. A plural word is one\n",
        "that ends in \"s\"."
      ],
      "metadata": {
        "id": "_hCXnIOFJTB5"
      }
    },
    {
      "cell_type": "code",
      "source": [
        "x=input(\"enter a string:\")\n",
        "if x[-1]!=\"s\":\n",
        "  print(\"it is a plural\")\n",
        "else:\n",
        "  print(\"it is not plural\")"
      ],
      "metadata": {
        "colab": {
          "base_uri": "https://localhost:8080/"
        },
        "id": "DVRrIswxJ_5A",
        "outputId": "b7c06532-4462-4be9-ac70-daba40095055"
      },
      "execution_count": 6,
      "outputs": [
        {
          "output_type": "stream",
          "name": "stdout",
          "text": [
            "enter a string:apples\n",
            "it is not plural\n"
          ]
        }
      ]
    },
    {
      "cell_type": "markdown",
      "source": [
        "17) A bartender is writing a simple program to determine\n",
        "whether he should serve drinks to someone. He only serves\n",
        "drinks to people 18 and older and when he's not on break\n",
        "(True means break and False means not a break time). Given\n",
        "the person's age, and whether break time is in session, create\n",
        "a python program which prints whether he should serve\n",
        "drinks or not."
      ],
      "metadata": {
        "id": "B6G6CTjKKniW"
      }
    },
    {
      "cell_type": "code",
      "source": [
        "x=int(input(\"enter age\"))\n",
        "y=input(\"break or not\")\n",
        "if x>=18 and y==\"not break\":\n",
        "  print(\"serve the drink\")\n",
        "elif x>=18 and y==\"break\":\n",
        "  print(\"dont serve drink\")\n",
        "elif x<=18 and y==\"not break\":\n",
        "  print(\"dont serve\")\n",
        "else:\n",
        "  print(\"dont serve\")"
      ],
      "metadata": {
        "colab": {
          "base_uri": "https://localhost:8080/"
        },
        "id": "1o__uG3yKu8o",
        "outputId": "0e2486d7-265e-4130-f01c-d2a087494eaa"
      },
      "execution_count": 7,
      "outputs": [
        {
          "output_type": "stream",
          "name": "stdout",
          "text": [
            "enter age15\n",
            "break or notbreak\n",
            "dont serve\n"
          ]
        }
      ]
    },
    {
      "cell_type": "markdown",
      "source": [
        "18) Manoj Kumar has family and friends. Help him remind\n",
        "them who is who. Given a string with a name, return the\n",
        "relation of that person to Manoj Kumar.\n",
        "\n",
        "Person Relation\n",
        "\n",
        "Shiva father\n",
        "\n",
        "Letha mother\n",
        "\n",
        "Tarun brother"
      ],
      "metadata": {
        "id": "ojDOUS3nNDcj"
      }
    },
    {
      "cell_type": "code",
      "source": [
        "x=input(\"enter person name:\")\n",
        "y=\"Manoj kumar\"\n",
        "if x==\"shiva\":\n",
        "  print(\"{} is {} of {}\".format(x,\"father\",y))\n",
        "elif x==\"letha\":\n",
        "  print(\"{} is {} of {}\".format(x,\"mother\",y))\n",
        "elif x==\"tarun\":\n",
        "  print(\"{} is {} of {}\".format(x,\"brother\",y))\n",
        "else:\n",
        "  print(\"Not a family mem\")"
      ],
      "metadata": {
        "colab": {
          "base_uri": "https://localhost:8080/"
        },
        "id": "1M7ufp8KNOrp",
        "outputId": "556e754d-c63d-4737-de69-054052b4d1b9"
      },
      "execution_count": 8,
      "outputs": [
        {
          "output_type": "stream",
          "name": "stdout",
          "text": [
            "enter person name:letha\n",
            "letha is mother of Manoj kumar\n"
          ]
        }
      ]
    },
    {
      "cell_type": "markdown",
      "source": [
        "20) Create a dynamic calculator which asks for numbers and\n",
        "operator and return the answers\n",
        "\n",
        "Example\n",
        "\n",
        "Input:\n",
        "\n",
        "Type first number: 10\n",
        "Type any of this (+, -, *, /, %, **): *\n",
        "\n",
        "\n",
        "Type second number: 19\n",
        "\n",
        "Output:\n",
        "\n",
        "Answer is 190"
      ],
      "metadata": {
        "id": "5GpGxYC9WX_K"
      }
    },
    {
      "cell_type": "code",
      "source": [
        "x=int(input(\"enter first num\"))\n",
        "y=int(input(\"enter second num\"))\n",
        "z=input(\"enter operator\")\n",
        "if z==\"+\":\n",
        "  print(\"answer is {}\".format(x+y))\n",
        "elif z==\"-\":\n",
        "  print(\"answer is {}\".format(x-y))\n",
        "elif z==\"/\":\n",
        "  print(\"answer is {}\".format(x/y))\n",
        "elif z==\"%\":\n",
        "  print(\"answer is {}\".format(x%y))\n",
        "elif z==\"*\":\n",
        "  print(\"answer is {}\".format(x*y))\n",
        "else:\n",
        "  print(\"enter crct operator\")"
      ],
      "metadata": {
        "colab": {
          "base_uri": "https://localhost:8080/"
        },
        "id": "Y4CF--5DWp4h",
        "outputId": "56eaa226-c812-48f4-d6e1-9a05c78117e7"
      },
      "execution_count": 16,
      "outputs": [
        {
          "output_type": "stream",
          "name": "stdout",
          "text": [
            "enter first num5\n",
            "enter second num6\n",
            "enter operator*\n",
            "answer is 30\n"
          ]
        }
      ]
    }
  ]
}