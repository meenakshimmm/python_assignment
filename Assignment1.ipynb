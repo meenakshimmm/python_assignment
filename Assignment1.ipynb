{
  "nbformat": 4,
  "nbformat_minor": 0,
  "metadata": {
    "colab": {
      "provenance": [],
      "toc_visible": true
    },
    "kernelspec": {
      "name": "python3",
      "display_name": "Python 3"
    },
    "language_info": {
      "name": "python"
    }
  },
  "cells": [
    {
      "cell_type": "code",
      "execution_count": null,
      "metadata": {
        "colab": {
          "base_uri": "https://localhost:8080/",
          "height": 139
        },
        "id": "GI5hlwXyy5IG",
        "outputId": "ba4ae4f7-66bb-42c6-aa7f-8ca503e21b54"
      },
      "outputs": [
        {
          "name": "stdout",
          "output_type": "stream",
          "text": [
            "enter your name Meenakshi\n",
            "enter your age 22\n",
            "enter phone number 9603914776\n",
            "enter father name Ravikanth\n",
            "enter mother name Lakshmi\n"
          ]
        },
        {
          "output_type": "execute_result",
          "data": {
            "text/plain": [
              "'My Name is  Meenakshi,My age is 22,My phone number is 9603914776,My Father name is  Ravikanth,My Mother name is  Lakshmi'"
            ],
            "application/vnd.google.colaboratory.intrinsic+json": {
              "type": "string"
            }
          },
          "metadata": {},
          "execution_count": 5
        }
      ],
      "source": [
        "#6.Write a python program where you have different variable which contains your name ,sex,age, phone no ,fathers name mothers name.And by using this variable create a variable named bio-data where you will use all this variable\n",
        "name=input(\"enter your name\")\n",
        "age=int(input(\"enter your age\"))\n",
        "phone_number=int(input(\"enter phone number\"))\n",
        "father_name=input(\"enter father name\")\n",
        "mother_name=input(\"enter mother name\")\n",
        "Biodata=\"My Name is {},My age is {},My phone number is {},My Father name is {},My Mother name is {}\"\n",
        "Biodata.format(name,age,phone_number,father_name,mother_name)\n",
        "\n"
      ]
    },
    {
      "cell_type": "code",
      "source": [
        "#2.Write a python program to convert only odd indexed characters to lower caseEx:- PYTHON\n",
        "\n",
        "#Output: - PyThOn\n",
        "\n",
        "\n",
        "x=\"PYTHON\"\n",
        "x[0]+x[1].lower()+x[2]+x[3].lower()+x[4]+x[5].lower()"
      ],
      "metadata": {
        "colab": {
          "base_uri": "https://localhost:8080/",
          "height": 35
        },
        "id": "-3d_CdiFTf2L",
        "outputId": "e0682b63-9302-4f4e-e5df-389b7844acc4"
      },
      "execution_count": 14,
      "outputs": [
        {
          "output_type": "execute_result",
          "data": {
            "text/plain": [
              "'PyThOn'"
            ],
            "application/vnd.google.colaboratory.intrinsic+json": {
              "type": "string"
            }
          },
          "metadata": {},
          "execution_count": 14
        }
      ]
    },
    {
      "cell_type": "code",
      "source": [
        "#3.Write a python program to convert only even indexed characters to lower case\n",
        "\n",
        "#Ex:- PYTHON\n",
        "\n",
        "#Output: - pYtHoN\n",
        "x=\"PYTHON\"\n",
        "x[0].lower()+x[1]+x[2].lower()+x[3]+x[4].lower()+x[5]\n"
      ],
      "metadata": {
        "colab": {
          "base_uri": "https://localhost:8080/",
          "height": 35
        },
        "id": "f-il_6DhXjEZ",
        "outputId": "0e4d39f6-5f01-4d6b-e1fd-2ea4fa509632"
      },
      "execution_count": 15,
      "outputs": [
        {
          "output_type": "execute_result",
          "data": {
            "text/plain": [
              "'pYtHoN'"
            ],
            "application/vnd.google.colaboratory.intrinsic+json": {
              "type": "string"
            }
          },
          "metadata": {},
          "execution_count": 15
        }
      ]
    },
    {
      "cell_type": "code",
      "source": [
        "#7.Write a python program to count how many times “@” occurred\n",
        "\n",
        "x=\"@fg@hjj@hg@fmng@\"\n",
        "x.count(\"@\")\n"
      ],
      "metadata": {
        "colab": {
          "base_uri": "https://localhost:8080/"
        },
        "id": "9Jw9Qxg7HHhs",
        "outputId": "19979f4b-8302-4a6d-91bf-0db889477a5b"
      },
      "execution_count": 28,
      "outputs": [
        {
          "output_type": "execute_result",
          "data": {
            "text/plain": [
              "5"
            ]
          },
          "metadata": {},
          "execution_count": 28
        }
      ]
    },
    {
      "cell_type": "code",
      "source": [
        "#4 Write a python program to convert only odd indexed characters to upper case\n",
        "\n",
        "x=\"python\"\n",
        "x[0]+x[1].upper()+x[2]+x[3].upper()+x[4]+x[5].upper()\n"
      ],
      "metadata": {
        "colab": {
          "base_uri": "https://localhost:8080/",
          "height": 35
        },
        "id": "7NFk7S7lbfZ2",
        "outputId": "bcdea2d9-28bf-4fe3-9080-ca2eacb7d046"
      },
      "execution_count": 35,
      "outputs": [
        {
          "output_type": "execute_result",
          "data": {
            "text/plain": [
              "'pYtHoN'"
            ],
            "application/vnd.google.colaboratory.intrinsic+json": {
              "type": "string"
            }
          },
          "metadata": {},
          "execution_count": 35
        }
      ]
    },
    {
      "cell_type": "code",
      "source": [
        "#5 Write a python program to convert only even indexed characters to upper case\n",
        "x=\"python\"\n",
        "x[0].upper()+x[1]+x[2].upper()+x[3]+x[4].upper()+x[5]\n"
      ],
      "metadata": {
        "colab": {
          "base_uri": "https://localhost:8080/",
          "height": 35
        },
        "id": "FmGMOq60b2Qd",
        "outputId": "3f610bad-fe14-49c7-908d-c19913a2de18"
      },
      "execution_count": 36,
      "outputs": [
        {
          "output_type": "execute_result",
          "data": {
            "text/plain": [
              "'PyThOn'"
            ],
            "application/vnd.google.colaboratory.intrinsic+json": {
              "type": "string"
            }
          },
          "metadata": {},
          "execution_count": 36
        }
      ]
    },
    {
      "cell_type": "code",
      "source": [
        "#1.Write a python program to convert a string to lower case\n",
        "\n",
        "x=\"mEEnAKShi\"\n",
        "x.lower()"
      ],
      "metadata": {
        "colab": {
          "base_uri": "https://localhost:8080/",
          "height": 35
        },
        "id": "uwhiQhAQ7ojm",
        "outputId": "9d2c41e6-f448-4ec8-b2cb-2367521a5520"
      },
      "execution_count": null,
      "outputs": [
        {
          "output_type": "execute_result",
          "data": {
            "text/plain": [
              "'meenakshi'"
            ],
            "application/vnd.google.colaboratory.intrinsic+json": {
              "type": "string"
            }
          },
          "metadata": {},
          "execution_count": 2
        }
      ]
    },
    {
      "cell_type": "code",
      "source": [
        "#10 Write a python program to insert a 2 string in the middle of 1 string str1=\"myn\" str2=\"sa\"\n",
        "str1=\"myn\"\n",
        "str2=\"sa\"\n",
        "str1[0]+str2+str1[1]+str1[2]"
      ],
      "metadata": {
        "id": "bfVtMcIbHqBU",
        "colab": {
          "base_uri": "https://localhost:8080/",
          "height": 35
        },
        "outputId": "61431baf-7dd4-4289-b0e2-af03390dc1bd"
      },
      "execution_count": 37,
      "outputs": [
        {
          "output_type": "execute_result",
          "data": {
            "text/plain": [
              "'msayn'"
            ],
            "application/vnd.google.colaboratory.intrinsic+json": {
              "type": "string"
            }
          },
          "metadata": {},
          "execution_count": 37
        }
      ]
    },
    {
      "cell_type": "code",
      "source": [
        "#11Write a program to remove vowels from”\n",
        "x=\"abcdefghijklmnopqrstuvwxyz\"\n",
        "y=x.replace(\"a\",\"\")\n",
        "z=y.replace(\"e\",\"\")\n",
        "a=z.replace(\"i\",\"\")\n",
        "b=a.replace(\"o\",\"\")\n",
        "c=b.replace(\"u\",\"\")\n",
        "print(c)"
      ],
      "metadata": {
        "colab": {
          "base_uri": "https://localhost:8080/"
        },
        "id": "39MbVv2xgCsM",
        "outputId": "9a2f876e-69ab-4408-b115-ca9066070d3d"
      },
      "execution_count": 55,
      "outputs": [
        {
          "output_type": "stream",
          "name": "stdout",
          "text": [
            "bcdfghjklmnpqrstvwxyz\n"
          ]
        }
      ]
    }
  ]
}