{
  "nbformat": 4,
  "nbformat_minor": 0,
  "metadata": {
    "colab": {
      "provenance": []
    },
    "kernelspec": {
      "name": "python3",
      "display_name": "Python 3"
    },
    "language_info": {
      "name": "python"
    }
  },
  "cells": [
    {
      "cell_type": "code",
      "execution_count": null,
      "metadata": {
        "colab": {
          "base_uri": "https://localhost:8080/"
        },
        "id": "wJxE9Fsz9uRQ",
        "outputId": "ce15086f-a857-474c-9814-6b06e4e3e11f"
      },
      "outputs": [
        {
          "output_type": "stream",
          "name": "stdout",
          "text": [
            "enter c or fc\n",
            "enter temp30\n",
            "30 degree celcius = 86.0\n"
          ]
        }
      ],
      "source": [
        "\n",
        "x=input(\"enter c or f\")\n",
        "\n",
        "\n",
        "if x==\"c\":\n",
        " y=int(input(\"enter temp\"))\n",
        " print(\"{} degree celcius = {}\".format(y,y*9/5+32))\n",
        "elif x==\"f\":\n",
        " y=int(input(\"enter temp\"))\n",
        " print(\"{} f = {}\".format(y,(y-32)*5/9))\n",
        "else:\n",
        " print(\"enter correct\")"
      ]
    },
    {
      "cell_type": "code",
      "source": [
        "x=input(\"enter c or f\")\n",
        "\n",
        "\n",
        "if x==\"c\":\n",
        " y=int(input(\"enter temp\"))\n",
        " print(\"{} degree celcius = {}\".format(y,y*9/5+32))\n",
        "elif x==\"f\":\n",
        " y=int(input(\"enter temp\"))\n",
        " print(\"{} f = {}\".format(y,(y-32)*5/9))\n",
        "else:\n",
        " print(\"enter correct\")"
      ],
      "metadata": {
        "colab": {
          "base_uri": "https://localhost:8080/"
        },
        "id": "Ksf-8D6IGcbp",
        "outputId": "70311081-63b5-48e1-f1ea-c94bbc90da76"
      },
      "execution_count": null,
      "outputs": [
        {
          "output_type": "stream",
          "name": "stdout",
          "text": [
            "enter c or ff\n",
            "enter temp86\n",
            "86 f = 30.0\n"
          ]
        }
      ]
    }
  ]
}